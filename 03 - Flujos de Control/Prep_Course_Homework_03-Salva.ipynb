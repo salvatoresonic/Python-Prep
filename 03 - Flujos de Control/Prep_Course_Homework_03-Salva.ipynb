{
 "cells": [
  {
   "cell_type": "code",
   "execution_count": null,
   "metadata": {},
   "outputs": [],
   "source": [
    "# 1) Crear una variable que contenga un elemento del conjunto de números enteros y luego imprimir por pantalla si es mayor o menor a cero\n",
    "\n",
    "var1 = 5\n",
    "if (var1 > 0 ):\n",
    "    print(\"el numero es mayor que 0\")\n",
    "elif(var1 < 0):\n",
    "    print(\"el numero es menor que 0\")\n",
    "else:\n",
    "    (\"el numero es igual a 0\")"
   ]
  },
  {
   "cell_type": "code",
   "execution_count": null,
   "metadata": {},
   "outputs": [],
   "source": [
    "valor = 4 + 19\n",
    "\n",
    "if (valor < 0):\n",
    "    print(\"el numero es negativo\")\n",
    "elif( valor > 0):\n",
    "    print(\"El numero es positivo\")\n",
    "else:\n",
    "    print(\"el numero es igual a 0\")"
   ]
  },
  {
   "cell_type": "code",
   "execution_count": 29,
   "metadata": {},
   "outputs": [
    {
     "name": "stdout",
     "output_type": "stream",
     "text": [
      "las variables son dif tipo de dato\n"
     ]
    }
   ],
   "source": [
    "# 2) Crear dos variables y un condicional que informe si son del mismo tipo de dato\n",
    "\n",
    "var1 = 10\n",
    "var2 = 9.6\n",
    "\n",
    "if(type(var1) == type(var2)):\n",
    "    print(\"las variables son el mismo tipo dde dato\")\n",
    "else:\n",
    "    print(\"las variables son dif tipo de dato\")\n",
    "\n"
   ]
  },
  {
   "cell_type": "code",
   "execution_count": 40,
   "metadata": {},
   "outputs": [
    {
     "name": "stdout",
     "output_type": "stream",
     "text": [
      "1 en un numero impar\n",
      "2 es un numero par\n",
      "3 en un numero impar\n",
      "4 es un numero par\n",
      "5 en un numero impar\n",
      "6 es un numero par\n",
      "7 en un numero impar\n",
      "8 es un numero par\n",
      "9 en un numero impar\n",
      "10 es un numero par\n",
      "11 en un numero impar\n",
      "12 es un numero par\n",
      "13 en un numero impar\n",
      "14 es un numero par\n",
      "15 en un numero impar\n",
      "16 es un numero par\n",
      "17 en un numero impar\n",
      "18 es un numero par\n",
      "19 en un numero impar\n",
      "20 es un numero par\n"
     ]
    }
   ],
   "source": [
    "# 3) Para los valores enteros del 1 al 20, imprimir por pantalla si es par o impar.\n",
    "\n",
    "for n in range (1,21):\n",
    "    if(n%2 == 0):\n",
    "        print(n, \"es un numero par\")\n",
    "    elif(n%2 != 0):\n",
    "        print(n, \"en un numero impar\")"
   ]
  },
  {
   "cell_type": "code",
   "execution_count": 51,
   "metadata": {},
   "outputs": [
    {
     "name": "stdout",
     "output_type": "stream",
     "text": [
      "0 elevado a la 3 es 0\n",
      "1 elevado a la 3 es 1\n",
      "2 elevado a la 3 es 8\n",
      "3 elevado a la 3 es 27\n",
      "4 elevado a la 3 es 64\n",
      "5 elevado a la 3 es 125\n"
     ]
    }
   ],
   "source": [
    "#4) En un ciclo for mostrar para los valores entre 0 y 5 el resultado de elevarlo a la potencia igual a 3\n",
    "\n",
    "\n",
    "variable = 8\n",
    "for n in range (0,6):\n",
    "    print(n, \"elevado a la 3 es\", n ** 3)"
   ]
  },
  {
   "cell_type": "code",
   "execution_count": 53,
   "metadata": {},
   "outputs": [
    {
     "name": "stdout",
     "output_type": "stream",
     "text": [
      "0\n",
      "1\n",
      "2\n",
      "3\n",
      "4\n",
      "5\n",
      "6\n"
     ]
    }
   ],
   "source": [
    "# 5) Crear una variable que contenga un número entero y realizar un ciclo for la misma cantidad de ciclos\n",
    "\n",
    "variable = 7\n",
    "\n",
    "for n in range (0,variable):\n",
    "    print(n)\n"
   ]
  },
  {
   "cell_type": "code",
   "execution_count": 76,
   "metadata": {},
   "outputs": [
    {
     "name": "stdout",
     "output_type": "stream",
     "text": [
      " el factorial de  4 es  24\n"
     ]
    }
   ],
   "source": [
    "# 6) Utilizar un ciclo while para realizar el factorial de un número guardado en una variable, sólo si la variable contiene un número entero mayor a 0\n",
    "\n",
    "n = 4\n",
    "\n",
    "if (n >= 0):\n",
    "    x = 1\n",
    "    factorial = 1\n",
    "    while(x <= n):\n",
    "        factorial = factorial * x\n",
    "        x = x + 1\n",
    "    print(\" el factorial de \", n, \"es \", factorial)\n",
    "else:\n",
    "    print(\"no se puede calcular el factorial\")\n",
    "\n",
    "\n"
   ]
  }
 ],
 "metadata": {
  "kernelspec": {
   "display_name": "Python 3",
   "language": "python",
   "name": "python3"
  },
  "language_info": {
   "codemirror_mode": {
    "name": "ipython",
    "version": 3
   },
   "file_extension": ".py",
   "mimetype": "text/x-python",
   "name": "python",
   "nbconvert_exporter": "python",
   "pygments_lexer": "ipython3",
   "version": "3.8.9"
  },
  "orig_nbformat": 4,
  "vscode": {
   "interpreter": {
    "hash": "31f2aee4e71d21fbe5cf8b01ff0e069b9275f58929596ceb00d14d90e3e16cd6"
   }
  }
 },
 "nbformat": 4,
 "nbformat_minor": 2
}
