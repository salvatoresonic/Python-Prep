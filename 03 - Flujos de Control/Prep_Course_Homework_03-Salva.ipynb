{
 "cells": [
  {
   "cell_type": "code",
   "execution_count": null,
   "metadata": {},
   "outputs": [],
   "source": [
    "# 1) Crear una variable que contenga un elemento del conjunto de números enteros y luego imprimir por pantalla si es mayor o menor a cero\n",
    "\n",
    "var1 = 5\n",
    "if (var1 > 0 ):\n",
    "    print(\"el numero es mayor que 0\")\n",
    "elif(var1 < 0):\n",
    "    print(\"el numero es menor que 0\")\n",
    "else:\n",
    "    (\"el numero es igual a 0\")"
   ]
  },
  {
   "cell_type": "code",
   "execution_count": null,
   "metadata": {},
   "outputs": [],
   "source": [
    "valor = 4 + 19\n",
    "\n",
    "if (valor < 0):\n",
    "    print(\"el numero es negativo\")\n",
    "elif( valor > 0):\n",
    "    print(\"El numero es positivo\")\n",
    "else:\n",
    "    print(\"el numero es igual a 0\")"
   ]
  },
  {
   "cell_type": "code",
   "execution_count": 29,
   "metadata": {},
   "outputs": [
    {
     "name": "stdout",
     "output_type": "stream",
     "text": [
      "las variables son dif tipo de dato\n"
     ]
    }
   ],
   "source": [
    "# 2) Crear dos variables y un condicional que informe si son del mismo tipo de dato\n",
    "\n",
    "var1 = 10\n",
    "var2 = 9.6\n",
    "\n",
    "if(type(var1) == type(var2)):\n",
    "    print(\"las variables son el mismo tipo dde dato\")\n",
    "else:\n",
    "    print(\"las variables son dif tipo de dato\")\n",
    "\n"
   ]
  },
  {
   "cell_type": "code",
   "execution_count": 40,
   "metadata": {},
   "outputs": [
    {
     "name": "stdout",
     "output_type": "stream",
     "text": [
      "1 en un numero impar\n",
      "2 es un numero par\n",
      "3 en un numero impar\n",
      "4 es un numero par\n",
      "5 en un numero impar\n",
      "6 es un numero par\n",
      "7 en un numero impar\n",
      "8 es un numero par\n",
      "9 en un numero impar\n",
      "10 es un numero par\n",
      "11 en un numero impar\n",
      "12 es un numero par\n",
      "13 en un numero impar\n",
      "14 es un numero par\n",
      "15 en un numero impar\n",
      "16 es un numero par\n",
      "17 en un numero impar\n",
      "18 es un numero par\n",
      "19 en un numero impar\n",
      "20 es un numero par\n"
     ]
    }
   ],
   "source": [
    "# 3) Para los valores enteros del 1 al 20, imprimir por pantalla si es par o impar.\n",
    "\n",
    "for n in range (1,21):\n",
    "    if(n%2 == 0):\n",
    "        print(n, \"es un numero par\")\n",
    "    elif(n%2 != 0):\n",
    "        print(n, \"en un numero impar\")"
   ]
  },
  {
   "cell_type": "code",
   "execution_count": 51,
   "metadata": {},
   "outputs": [
    {
     "name": "stdout",
     "output_type": "stream",
     "text": [
      "0 elevado a la 3 es 0\n",
      "1 elevado a la 3 es 1\n",
      "2 elevado a la 3 es 8\n",
      "3 elevado a la 3 es 27\n",
      "4 elevado a la 3 es 64\n",
      "5 elevado a la 3 es 125\n"
     ]
    }
   ],
   "source": [
    "#4 En un ciclo for mostrar para los valores entre 0 y 5 el resultado de elevarlo a la potencia igual a 3\n",
    "\n",
    "\n",
    "variable = 8\n",
    "for n in range (0,6):\n",
    "    print(n, \"elevado a la 3 es\", n ** 3)"
   ]
  },
  {
   "cell_type": "code",
   "execution_count": 53,
   "metadata": {},
   "outputs": [
    {
     "name": "stdout",
     "output_type": "stream",
     "text": [
      "0\n",
      "1\n",
      "2\n",
      "3\n",
      "4\n",
      "5\n",
      "6\n"
     ]
    }
   ],
   "source": [
    "# 5 Crear una variable que contenga un número entero y realizar un ciclo for la misma cantidad de ciclos\n",
    "\n",
    "variable = 7\n",
    "\n",
    "for n in range (0,variable):\n",
    "    print(n)\n"
   ]
  },
  {
   "cell_type": "code",
   "execution_count": 2,
   "metadata": {},
   "outputs": [
    {
     "name": "stdout",
     "output_type": "stream",
     "text": [
      " el factorial de  6 es  5040\n"
     ]
    }
   ],
   "source": [
    "# 6) Utilizar un ciclo while para realizar el factorial de un número guardado en una variable, sólo si la variable contiene un número entero mayor a 0\n",
    "\n",
    "n = 6\n",
    "\n",
    "if (n >= 0):\n",
    "    x = 1\n",
    "    factorial = 1\n",
    "    while(x <= n):\n",
    "        x = x + 1\n",
    "        factorial = factorial * x\n",
    "    print(\" el factorial de \", n, \"es \", factorial)\n",
    "else:\n",
    "    print(\"no se puede calcular el factorial\")\n",
    "\n",
    "\n"
   ]
  },
  {
   "cell_type": "code",
   "execution_count": 118,
   "metadata": {},
   "outputs": [
    {
     "name": "stdout",
     "output_type": "stream",
     "text": [
      "El factorial de  6 es  720\n"
     ]
    }
   ],
   "source": [
    "## 6) Utilizar un ciclo while para realizar el factorial de un número guardado en una variable, sólo si la variable contiene un número entero mayor a 0\n",
    "\n",
    "num = 6\n",
    "factorial = 1\n",
    "\n",
    "if(type(num) == int):\n",
    "    pass\n",
    "    if(num > 0):\n",
    "        num_original = num\n",
    "        while(num>1):\n",
    "            factorial = factorial * num\n",
    "            num = num - 1\n",
    "        print(\"El factorial de \", num_original , \"es \", factorial)\n",
    "    else:\n",
    "        print(\"El numero debe ser mayor que cero\")\n",
    "else:\n",
    "    print(\"El numero debe ser un entero\")\n",
    "\n"
   ]
  },
  {
   "cell_type": "code",
   "execution_count": 10,
   "metadata": {},
   "outputs": [
    {
     "name": "stdout",
     "output_type": "stream",
     "text": [
      "0\n",
      "1\n",
      "2\n",
      "3\n",
      "4\n",
      "0\n",
      "1\n",
      "2\n",
      "3\n",
      "4\n"
     ]
    }
   ],
   "source": [
    "# 7 Crear un ciclo for dentro de un ciclo while\n",
    "\n",
    "x = 1\n",
    "while (x < 3):\n",
    "    x = x + 1\n",
    "    for n in range (0,5):\n",
    "        print(n)\n",
    "    "
   ]
  },
  {
   "cell_type": "code",
   "execution_count": 40,
   "metadata": {},
   "outputs": [
    {
     "name": "stdout",
     "output_type": "stream",
     "text": [
      "1\n",
      "2\n",
      "3\n",
      "1\n",
      "2\n",
      "3\n",
      "1\n",
      "2\n",
      "3\n"
     ]
    }
   ],
   "source": [
    "# 8) Crear un ciclo while dentro de un ciclo for\n",
    "\n",
    "for n in range (0,3):\n",
    "    x = 0\n",
    "    while (x < 3):\n",
    "        x = x + 1\n",
    "        print(x)\n",
    "\n",
    "    "
   ]
  },
  {
   "cell_type": "code",
   "execution_count": 119,
   "metadata": {},
   "outputs": [
    {
     "name": "stdout",
     "output_type": "stream",
     "text": [
      "2\n",
      "3\n",
      "5\n",
      "7\n",
      "11\n",
      "13\n",
      "17\n",
      "19\n",
      "23\n",
      "29\n"
     ]
    }
   ],
   "source": [
    "# 9 Imprimir los números primos existentes entre 0 y 30\n",
    "\n",
    "for n  in range (0, 30):\n",
    "    contador = 0 \n",
    "    for i in range (1, n+1):\n",
    "        if (n % i == 0):\n",
    "            contador = contador + 1\n",
    "    if (contador == 2):\n",
    "        print(n)\n"
   ]
  },
  {
   "cell_type": "code",
   "execution_count": 130,
   "metadata": {},
   "outputs": [
    {
     "name": "stdout",
     "output_type": "stream",
     "text": [
      "0 Es un num primo\n",
      "1 Es un num primo\n",
      "2 Es un num primo\n",
      "3 Es un num primo\n",
      "5 Es un num primo\n",
      "7 Es un num primo\n",
      "11 Es un num primo\n",
      "13 Es un num primo\n",
      "17 Es un num primo\n",
      "19 Es un num primo\n",
      "23 Es un num primo\n",
      "29 Es un num primo\n"
     ]
    }
   ],
   "source": [
    "# 9 Imprimir los números primos existentes entre 0 y 30\n",
    "\n",
    "\n",
    "for nro in range (0, 31):\n",
    "    es_primo = True\n",
    "    for i in range(2, nro):\n",
    "        if(nro % i == 0):\n",
    "            es_primo = False\n",
    "    if(es_primo):\n",
    "        print(nro, \"Es un num primo\")\n"
   ]
  },
  {
   "cell_type": "code",
   "execution_count": 54,
   "metadata": {},
   "outputs": [
    {
     "name": "stdout",
     "output_type": "stream",
     "text": [
      "0\n",
      "1\n",
      "2\n",
      "3\n",
      "5\n",
      "7\n",
      "11\n",
      "13\n",
      "17\n",
      "19\n",
      "23\n",
      "29\n"
     ]
    }
   ],
   "source": [
    "# 9) Imprimir los números primos existentes entre 0 y 30\n",
    "\n",
    "tope_rango = 31\n",
    "n = 0\n",
    "primo = True\n",
    "while (n < tope_rango):\n",
    "    for div in range(2, n):\n",
    "        if (n % div == 0):\n",
    "            primo = False\n",
    "    if (primo):\n",
    "        print(n)\n",
    "    else:\n",
    "        primo = True\n",
    "    n = n +1"
   ]
  },
  {
   "cell_type": "code",
   "execution_count": 52,
   "metadata": {},
   "outputs": [
    {
     "name": "stdout",
     "output_type": "stream",
     "text": [
      "0\n",
      "1\n",
      "2\n",
      "3\n",
      "5\n",
      "7\n",
      "11\n",
      "13\n",
      "17\n",
      "19\n",
      "23\n",
      "29\n"
     ]
    }
   ],
   "source": [
    "tope_rango=30\n",
    "n = 0\n",
    "primo = True\n",
    "while (n < tope_rango):\n",
    "    for div in range(2, n):\n",
    "        if (n % div == 0):\n",
    "            primo = False\n",
    "    if (primo):\n",
    "        print(n)\n",
    "    else:\n",
    "        primo = True\n",
    "    n += 1"
   ]
  },
  {
   "cell_type": "code",
   "execution_count": 59,
   "metadata": {},
   "outputs": [
    {
     "name": "stdout",
     "output_type": "stream",
     "text": [
      "0\n",
      "1\n",
      "2\n",
      "3\n",
      "5\n",
      "7\n",
      "11\n",
      "13\n",
      "17\n",
      "19\n",
      "23\n",
      "29\n"
     ]
    }
   ],
   "source": [
    "#10 ¿Se puede mejorar el proceso del punto 9? Utilizar las sentencias break y/ó continue para tal fin\n",
    "\n",
    "tope_rango=30\n",
    "n = 0\n",
    "primo = True\n",
    "while (n < tope_rango):\n",
    "    for div in range(2, n):\n",
    "        if (n % div == 0):\n",
    "            primo = False\n",
    "            break\n",
    "    if (primo):\n",
    "        print(n)\n",
    "    else:\n",
    "        primo = True\n",
    "    n += 1\n",
    "\n"
   ]
  },
  {
   "cell_type": "code",
   "execution_count": 133,
   "metadata": {},
   "outputs": [
    {
     "name": "stdout",
     "output_type": "stream",
     "text": [
      "0 Es un num primo\n",
      "1 Es un num primo\n",
      "2 Es un num primo\n",
      "3 Es un num primo\n",
      "5 Es un num primo\n",
      "7 Es un num primo\n",
      "11 Es un num primo\n",
      "13 Es un num primo\n",
      "17 Es un num primo\n",
      "19 Es un num primo\n",
      "23 Es un num primo\n",
      "29 Es un num primo\n",
      "406\n"
     ]
    }
   ],
   "source": [
    "#10 ¿Se puede mejorar el proceso del punto 9? Utilizar las sentencias break y/ó continue para tal fin\n",
    "\n",
    "cantidad_ciclos = 0\n",
    "    \n",
    "for nro in range (0, 31):\n",
    "    es_primo = True\n",
    "    for i in range(2, nro):\n",
    "        cantidad_ciclos += 1\n",
    "        if(nro % i == 0):\n",
    "            es_primo = False\n",
    "            #break\n",
    "    if(es_primo):\n",
    "        print(nro, \"Es un num primo\")\n",
    "print(cantidad_ciclos)"
   ]
  },
  {
   "cell_type": "code",
   "execution_count": 60,
   "metadata": {},
   "outputs": [
    {
     "name": "stdout",
     "output_type": "stream",
     "text": [
      "0\n",
      "1\n",
      "2\n",
      "3\n",
      "5\n",
      "7\n",
      "11\n",
      "13\n",
      "17\n",
      "19\n",
      "23\n",
      "29\n",
      "378\n"
     ]
    }
   ],
   "source": [
    "# 11) En los puntos 9 y 10, se diseño un código que encuentra números primos y además se lo optimizó. ¿Es posible saber en qué medida se optimizó?\n",
    "\n",
    "# Aplicando el break\n",
    "\n",
    "ciclos_sin_break = 0\n",
    "tope_rango=30\n",
    "n = 0\n",
    "primo = True\n",
    "while (n < tope_rango):\n",
    "    for div in range(2, n):\n",
    "        ciclos_sin_break = ciclos_sin_break + 1\n",
    "        if (n % div == 0):\n",
    "            primo = False\n",
    "    if (primo):\n",
    "        print(n)\n",
    "    else:\n",
    "        primo = True\n",
    "    n += 1\n",
    "print(ciclos_sin_break)"
   ]
  },
  {
   "cell_type": "code",
   "execution_count": 64,
   "metadata": {},
   "outputs": [
    {
     "name": "stdout",
     "output_type": "stream",
     "text": [
      "0\n",
      "1\n",
      "2\n",
      "3\n",
      "5\n",
      "7\n",
      "11\n",
      "13\n",
      "17\n",
      "19\n",
      "23\n",
      "29\n",
      "134\n",
      "se redijeron  244 ciclos agregando un break\n",
      "lo que representa un optimización de  0.3544973544973545\n"
     ]
    }
   ],
   "source": [
    "\n",
    "ciclos_con_break = 0\n",
    "tope_rango=30\n",
    "n = 0\n",
    "primo = True\n",
    "while (n < tope_rango):\n",
    "    for div in range(2, n):\n",
    "        ciclos_con_break = ciclos_con_break + 1\n",
    "        if (n % div == 0):\n",
    "            primo = False\n",
    "            break\n",
    "    if (primo):\n",
    "        print(n)\n",
    "    else:\n",
    "        primo = True\n",
    "    n += 1\n",
    "print(ciclos_con_break)\n",
    "print(\"Se redujeron \", ciclos_sin_break - ciclos_con_break, \"ciclos agregando un break\" )\n",
    "print(\"Lo que representa un optimización de \", ciclos_con_break / ciclos_sin_break)"
   ]
  },
  {
   "cell_type": "code",
   "execution_count": 65,
   "metadata": {},
   "outputs": [
    {
     "name": "stdout",
     "output_type": "stream",
     "text": [
      "0\n",
      "1\n",
      "2\n",
      "3\n",
      "5\n",
      "7\n",
      "11\n",
      "13\n",
      "17\n",
      "19\n",
      "23\n",
      "29\n",
      "31\n",
      "37\n",
      "41\n",
      "43\n",
      "47\n",
      "53\n",
      "59\n",
      "61\n",
      "67\n",
      "71\n",
      "73\n",
      "79\n",
      "83\n",
      "89\n",
      "97\n",
      "101\n",
      "103\n",
      "107\n",
      "109\n",
      "113\n",
      "127\n",
      "8128\n"
     ]
    }
   ],
   "source": [
    "# 12 Si la cantidad de números que se evalúa es mayor a treinta, esa optimización crece?\n",
    "\n",
    "ciclos_sin_break = 0\n",
    "tope_rango=130\n",
    "n = 0\n",
    "primo = True\n",
    "while (n < tope_rango):\n",
    "    for div in range(2, n):\n",
    "        ciclos_sin_break = ciclos_sin_break + 1\n",
    "        if (n % div == 0):\n",
    "            primo = False\n",
    "    if (primo):\n",
    "        print(n)\n",
    "    else:\n",
    "        primo = True\n",
    "    n += 1\n",
    "print(ciclos_sin_break)"
   ]
  },
  {
   "cell_type": "code",
   "execution_count": 66,
   "metadata": {},
   "outputs": [
    {
     "name": "stdout",
     "output_type": "stream",
     "text": [
      "0\n",
      "1\n",
      "2\n",
      "3\n",
      "5\n",
      "7\n",
      "11\n",
      "13\n",
      "17\n",
      "19\n",
      "23\n",
      "29\n",
      "31\n",
      "37\n",
      "41\n",
      "43\n",
      "47\n",
      "53\n",
      "59\n",
      "61\n",
      "67\n",
      "71\n",
      "73\n",
      "79\n",
      "83\n",
      "89\n",
      "97\n",
      "101\n",
      "103\n",
      "107\n",
      "109\n",
      "113\n",
      "127\n",
      "1829\n",
      "Se redujeron  6299 ciclos agregando un break\n",
      "Lo que representa un optimización de  0.2250246062992126\n"
     ]
    }
   ],
   "source": [
    "ciclos_con_break = 0\n",
    "tope_rango=130\n",
    "n = 0\n",
    "primo = True\n",
    "while (n < tope_rango):\n",
    "    for div in range(2, n):\n",
    "        ciclos_con_break = ciclos_con_break + 1\n",
    "        if (n % div == 0):\n",
    "            primo = False\n",
    "            break\n",
    "    if (primo):\n",
    "        print(n)\n",
    "    else:\n",
    "        primo = True\n",
    "    n += 1\n",
    "print(ciclos_con_break)\n",
    "print(\"Se redujeron \", ciclos_sin_break - ciclos_con_break, \"ciclos agregando un break\" )\n",
    "print(\"Lo que representa un optimización de \", ciclos_con_break / ciclos_sin_break)"
   ]
  },
  {
   "cell_type": "code",
   "execution_count": 79,
   "metadata": {},
   "outputs": [
    {
     "name": "stdout",
     "output_type": "stream",
     "text": [
      "108\n",
      "120\n",
      "132\n",
      "144\n",
      "156\n",
      "168\n",
      "180\n",
      "192\n",
      "204\n",
      "216\n",
      "228\n",
      "240\n",
      "252\n",
      "264\n",
      "276\n",
      "288\n",
      "300\n"
     ]
    }
   ],
   "source": [
    "# 13 Aplicando continue, armar un ciclo while que solo imprima los valores divisibles por 12, dentro del rango de números de 100 a 300\n",
    "\n",
    "tope_inf = 100\n",
    "tope_sup = 300\n",
    "\n",
    "while(tope_inf < tope_sup):\n",
    "    tope_inf = tope_inf + 1\n",
    "    if (tope_inf % 12 != 0):\n",
    "        continue\n",
    "    print(tope_inf)"
   ]
  },
  {
   "cell_type": "code",
   "execution_count": 95,
   "metadata": {},
   "outputs": [
    {
     "name": "stdout",
     "output_type": "stream",
     "text": [
      "6 No es numero primo.  Desea encontrar el siguiente numero primo?\n"
     ]
    }
   ],
   "source": [
    "# 14) Utilizar la función **input()** que permite hacer ingresos por teclado, para encontrar números primos y dar la opción al usuario de buscar el siguiente\n",
    "\n",
    "numero = int(input(\"Ingrese un número\"))\n",
    "esPrimo = True\n",
    "\n",
    "for i in range (2, numero):\n",
    "    if numero % i == 0:\n",
    "        esPrimo = False\n",
    "        break\n",
    "if (esPrimo):\n",
    "    print(numero, \"Es numero primo. \", \"Desea encontrar el siguiente numero primo?\")\n",
    "    input(\"Desea encontrar el siguiente numero primo\") \n",
    "else:\n",
    "    print(numero, \"No es numero primo. \", \"Desea encontrar el siguiente numero primo?\")\n"
   ]
  },
  {
   "cell_type": "code",
   "execution_count": 103,
   "metadata": {},
   "outputs": [
    {
     "name": "stdout",
     "output_type": "stream",
     "text": [
      "108\n"
     ]
    }
   ],
   "source": [
    "# 15 Crear un ciclo while que encuentre dentro del rango de 100 a 300 el primer número divisible por 3 y además múltiplo de 6\n",
    "\n",
    "tope_inf = 100\n",
    "tope_sup = 300\n",
    "\n",
    "while(tope_inf < tope_sup):\n",
    "    tope_inf = tope_inf + 1\n",
    "    if (tope_inf % 4 == 0 and tope_inf % 6 == 0 ):\n",
    "        print(tope_inf)\n",
    "        break"
   ]
  },
  {
   "cell_type": "code",
   "execution_count": null,
   "metadata": {},
   "outputs": [],
   "source": [
    "#se terminó esto"
   ]
  }
 ],
 "metadata": {
  "kernelspec": {
   "display_name": "Python 3",
   "language": "python",
   "name": "python3"
  },
  "language_info": {
   "codemirror_mode": {
    "name": "ipython",
    "version": 3
   },
   "file_extension": ".py",
   "mimetype": "text/x-python",
   "name": "python",
   "nbconvert_exporter": "python",
   "pygments_lexer": "ipython3",
   "version": "3.8.9"
  },
  "orig_nbformat": 4,
  "vscode": {
   "interpreter": {
    "hash": "31f2aee4e71d21fbe5cf8b01ff0e069b9275f58929596ceb00d14d90e3e16cd6"
   }
  }
 },
 "nbformat": 4,
 "nbformat_minor": 2
}
