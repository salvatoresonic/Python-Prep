{
 "cells": [
  {
   "cell_type": "code",
   "execution_count": 2,
   "metadata": {},
   "outputs": [
    {
     "data": {
      "text/plain": [
       "False"
      ]
     },
     "execution_count": 2,
     "metadata": {},
     "output_type": "execute_result"
    }
   ],
   "source": [
    "# 1) Crear una función que reciba un número como parámetro y devuelva  True si es primo y False si no lo es\n",
    "\n",
    "def verifica_primo(nro):\n",
    "    es_primo = True\n",
    "    for i in range(2, nro):\n",
    "        if nro % i == 0:\n",
    "            es_primo = False\n",
    "            break\n",
    "    return es_primo\n",
    "\n",
    "verifica_primo(4)\n"
   ]
  },
  {
   "cell_type": "code",
   "execution_count": 3,
   "metadata": {},
   "outputs": [
    {
     "data": {
      "text/plain": [
       "[1, 2, 3, 7]"
      ]
     },
     "execution_count": 3,
     "metadata": {},
     "output_type": "execute_result"
    }
   ],
   "source": [
    "#2) Utilizando la función del punto 1, realizar otra función que reciba de parámetro una lista de números y devuelva sólo aquellos que son primos en otra lista\n",
    "\n",
    "lista = [1,2,3,4,6,7]\n",
    "\n",
    "def lista_verificada (lista):\n",
    "    lista_primos = []\n",
    "    for i in lista:\n",
    "        if(verifica_primo(i)):\n",
    "            lista_primos.append(i)\n",
    "    return(lista_primos)\n",
    "\n",
    "lista_verificada(lista)\n"
   ]
  },
  {
   "cell_type": "code",
   "execution_count": 4,
   "metadata": {},
   "outputs": [
    {
     "data": {
      "text/plain": [
       "('la moda es', 6, 'con', 7, 'repeticiones')"
      ]
     },
     "execution_count": 4,
     "metadata": {},
     "output_type": "execute_result"
    }
   ],
   "source": [
    "# 3) Crear una función que al recibir una lista de números, devuelva el que más se repite y cuántas veces lo hace. Si hay más de un \"más repetido\", que devuelva cualquiera\n",
    "\n",
    "lista2 = [1,2,3,3,3,3,4,5,6,6,6,6,6,6,6]\n",
    "lista_repetidos = []\n",
    "\n",
    "def num_moda (lista2):\n",
    "    num_modal = 0\n",
    "    repeticiones = 0\n",
    "    for num in lista2:\n",
    "        # para cada elemento de la lista cuenta cuantas veces esta presente en la misma\n",
    "        num_rep = lista2.count(num)\n",
    "            #si el conteo \"num_rep\" > \"moda\" has que \"moda\" tome ese valor. \n",
    "        if num_rep > repeticiones:\n",
    "            repeticiones = num_rep\n",
    "            num_modal = num\n",
    "    return ('la moda es', num_modal, 'con', repeticiones, \"repeticiones\")\n",
    "\n",
    "num_moda(lista2)\n",
    "\n",
    "\n"
   ]
  },
  {
   "cell_type": "code",
   "execution_count": 5,
   "metadata": {},
   "outputs": [],
   "source": [
    "# 3) Crear una función que al recibir una lista de números, devuelva el que más se repite y cuántas veces lo hace. Si hay más de un \"más repetido\", que devuelva cualquiera (RESPUESTA 2)\n",
    "\n",
    "def valor_modal(lista):\n",
    "    lista_unicos = []\n",
    "    lista_repeticiones = []\n",
    "    if len(lista) == 0:\n",
    "        return None\n",
    "    for elemento in lista:\n",
    "        if elemento in lista_unicos:\n",
    "            i = lista_unicos.index(elemento)\n",
    "            lista_repeticiones[i] += 1\n",
    "        else:\n",
    "            lista_unicos.append(elemento)\n",
    "            lista_repeticiones.append(1)\n",
    "    moda = lista_unicos[0]\n",
    "    maximo = lista_repeticiones[0]\n",
    "    for i, elemento in enumerate(lista_unicos):\n",
    "        if lista_repeticiones[i] > maximo:\n",
    "            moda = lista_unicos[i]\n",
    "            maximo = lista_repeticiones[i]\n",
    "    return moda, maximo"
   ]
  },
  {
   "cell_type": "code",
   "execution_count": 6,
   "metadata": {},
   "outputs": [
    {
     "name": "stdout",
     "output_type": "stream",
     "text": [
      "(5, 3)\n",
      "El valor modal es 5 y se repite 3 veces.\n"
     ]
    }
   ],
   "source": [
    "lis = [1,1,5,6,8,10,22,5,6,4,11,9,5]\n",
    "print(valor_modal(lis))\n",
    "moda, repite = valor_modal(lis)\n",
    "print('El valor modal es', moda, 'y se repite', repite, 'veces.')"
   ]
  },
  {
   "cell_type": "code",
   "execution_count": 7,
   "metadata": {},
   "outputs": [],
   "source": [
    "# 4) A la función del punto 3, agregar un parámetro más, que permita elegir si se requiere el menor o el mayor de los mas repetidos.\n",
    "\n",
    "def valor_modal(lista, menor):\n",
    "    '''\n",
    "    Esta función devuelve el valor modal y recibe de parámetros dos valores:\n",
    "    1-Una lista de números\n",
    "    2-Verdadero (por defecto) por si se requiere el mínimo de los más repetidos, o Falso si se requiere el máximo\n",
    "    '''\n",
    "    lista_unicos = []\n",
    "    lista_repeticiones = []\n",
    "    if len(lista) == 0:\n",
    "        return None\n",
    "    if (menor):\n",
    "        lista.sort()\n",
    "    else:\n",
    "        lista.sort(reverse=True)\n",
    "    for elemento in lista:\n",
    "        if elemento in lista_unicos:\n",
    "            i = lista_unicos.index(elemento)\n",
    "            lista_repeticiones[i] += 1\n",
    "        else:\n",
    "            lista_unicos.append(elemento)\n",
    "            lista_repeticiones.append(1)\n",
    "    moda = lista_unicos[0]\n",
    "    maximo = lista_repeticiones[0]\n",
    "    for i, elemento in enumerate(lista_unicos):\n",
    "        if lista_repeticiones[i] > maximo:\n",
    "            moda = lista_unicos[i]\n",
    "            maximo = lista_repeticiones[i]\n",
    "    return moda, maximo"
   ]
  },
  {
   "cell_type": "code",
   "execution_count": 8,
   "metadata": {},
   "outputs": [
    {
     "name": "stdout",
     "output_type": "stream",
     "text": [
      "El valor modal es 5 y se repite 3 veces.\n"
     ]
    }
   ],
   "source": [
    "lis = [10,1,5,6,8,10,22,5,6,4,11,10,9,5]\n",
    "moda, repite = valor_modal(lis, True)\n",
    "print('El valor modal es', moda, 'y se repite', repite, 'veces.')"
   ]
  },
  {
   "cell_type": "code",
   "execution_count": 9,
   "metadata": {},
   "outputs": [
    {
     "name": "stdout",
     "output_type": "stream",
     "text": [
      "El valor modal es 10 y se repite 3 veces.\n"
     ]
    }
   ],
   "source": [
    "lis = [10,1,5,6,8,10,22,5,6,4,11,10,9,5]\n",
    "moda, repite = valor_modal(lis, False)\n",
    "print('El valor modal es', moda, 'y se repite', repite, 'veces.')"
   ]
  },
  {
   "cell_type": "code",
   "execution_count": 10,
   "metadata": {},
   "outputs": [
    {
     "data": {
      "text/plain": [
       "59.0"
      ]
     },
     "execution_count": 10,
     "metadata": {},
     "output_type": "execute_result"
    }
   ],
   "source": [
    "#5 Crear una función que convierta entre grados Celsius, Farenheit y Kelvin<br>\n",
    "#Fórmula 1\t: (°C × 9/5) + 32 = °F<br>\n",
    "#Fórmula 2\t: °C + 273.15 = °K<br>\n",
    "#Debe recibir 3 parámetros: el valor, la medida de orígen y la medida de destino\n",
    "\n",
    "\n",
    "def convertir_temp(valor, origen, destino):\n",
    "    if(origen == 'celsius'):\n",
    "        if(destino == 'celsius'):\n",
    "            valor_destino = valor\n",
    "        if(destino == 'farenheit'):\n",
    "            valor_destino = (valor * (9/5) + 32)\n",
    "        if(destino == 'kelvin'):\n",
    "            valor_destino = (valor + 273.15)\n",
    "        else:\n",
    "            ('parametro destino incorrecto')\n",
    "\n",
    "    if(origen == 'farenheit'):\n",
    "        if(destino == 'farenheit'):\n",
    "            valor_destino = valor\n",
    "        if(destino == 'celsius'):\n",
    "            valor_destino = ((valor - 32)* (5/9))\n",
    "        if(destino == 'kelvin'):\n",
    "            valor_destino = ((valor - 32)* (5/9) + 273.15)\n",
    "        else:\n",
    "            ('parametro destino incorrecto')\n",
    "\n",
    "    if(origen == 'kelvin'):\n",
    "        if(destino == 'kelvin'):\n",
    "            valor_destino = valor\n",
    "        if(destino == 'celsius'):\n",
    "            valor_destino = (valor - 273)\n",
    "        if(destino == 'farenheit'):\n",
    "            valor_destino = (valor - 273 * (9/5) + 32)\n",
    "        else:\n",
    "            ('parametro destino incorrecto')\n",
    "    \n",
    "    return(valor_destino)\n",
    "\n",
    "convertir_temp(15, 'celsius', 'farenheit')\n",
    "\n",
    "        \n",
    "\n"
   ]
  },
  {
   "cell_type": "code",
   "execution_count": 11,
   "metadata": {},
   "outputs": [
    {
     "name": "stdout",
     "output_type": "stream",
     "text": [
      "1 grado celsius a celsius : 1\n",
      "1 grado celsius a kelvin : 274.15\n",
      "1 grado celsius a farenheit : 33.8\n",
      "1 grado kelvin a celsius : -272\n",
      "1 grado kelvin a kelvin : 1\n",
      "1 grado kelvin a farenheit : -458.40000000000003\n",
      "1 grado farenheit a celsius : -17.22222222222222\n",
      "1 grado farenheit a kelvin : 255.92777777777775\n",
      "1 grado farenheit a farenheit : 1\n"
     ]
    }
   ],
   "source": [
    "# 6 Iterando una lista con los tres valores posibles de temperatura que recibe la función del punto 5, hacer un print para cada combinación de los mismos:\n",
    "\n",
    "metricas = ['celsius','kelvin','farenheit']\n",
    "for i in range(0,3):\n",
    "    for j in range(0,3):\n",
    "        print('1 grado', metricas[i], 'a', metricas[j],':', convertir_temp(1, metricas[i], metricas[j]))"
   ]
  },
  {
   "cell_type": "code",
   "execution_count": 13,
   "metadata": {},
   "outputs": [
    {
     "name": "stdout",
     "output_type": "stream",
     "text": [
      "['In', 'Out', '_', '_10', '_2', '_3', '_4', '__', '___', '__builtin__', '__builtins__', '__doc__', '__loader__', '__name__', '__package__', '__spec__', '__vsc_ipynb_file__', '_dh', '_i', '_i1', '_i10', '_i11', '_i12', '_i13', '_i2', '_i3', '_i4', '_i5', '_i6', '_i7', '_i8', '_i9', '_ih', '_ii', '_iii', '_oh', 'convertir_temp', 'exit', 'get_ipython', 'i', 'j', 'lis', 'lista', 'lista2', 'lista_repetidos', 'lista_verificada', 'metricas', 'moda', 'num_moda', 'open', 'quit', 'repite', 'valor_modal', 'verifica_primo']\n"
     ]
    }
   ],
   "source": [
    "print(dir())\n"
   ]
  },
  {
   "cell_type": "code",
   "execution_count": 14,
   "metadata": {},
   "outputs": [
    {
     "name": "stdout",
     "output_type": "stream",
     "text": [
      "['/Users/salvadorambriz/Desktop/Henry/Python-Prep/06 - Funciones', '/Library/Developer/CommandLineTools/Library/Frameworks/Python3.framework/Versions/3.8/lib/python38.zip', '/Library/Developer/CommandLineTools/Library/Frameworks/Python3.framework/Versions/3.8/lib/python3.8', '/Library/Developer/CommandLineTools/Library/Frameworks/Python3.framework/Versions/3.8/lib/python3.8/lib-dynload', '', '/Users/salvadorambriz/Library/Python/3.8/lib/python/site-packages', '/Library/Developer/CommandLineTools/Library/Frameworks/Python3.framework/Versions/3.8/lib/python3.8/site-packages']\n"
     ]
    }
   ],
   "source": [
    "import sys\n",
    "print(sys.path)"
   ]
  }
 ],
 "metadata": {
  "kernelspec": {
   "display_name": "Python 3",
   "language": "python",
   "name": "python3"
  },
  "language_info": {
   "codemirror_mode": {
    "name": "ipython",
    "version": 3
   },
   "file_extension": ".py",
   "mimetype": "text/x-python",
   "name": "python",
   "nbconvert_exporter": "python",
   "pygments_lexer": "ipython3",
   "version": "3.8.9"
  },
  "orig_nbformat": 4,
  "vscode": {
   "interpreter": {
    "hash": "31f2aee4e71d21fbe5cf8b01ff0e069b9275f58929596ceb00d14d90e3e16cd6"
   }
  }
 },
 "nbformat": 4,
 "nbformat_minor": 2
}
