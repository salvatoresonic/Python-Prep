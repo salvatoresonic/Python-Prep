{
 "cells": [
  {
   "cell_type": "code",
   "execution_count": 70,
   "metadata": {},
   "outputs": [
    {
     "name": "stdout",
     "output_type": "stream",
     "text": [
      "300\n"
     ]
    }
   ],
   "source": [
    "# 1) Crear la clase vehículo que contenga los atributos:<br>\n",
    "#Color<br>\n",
    "#Si es moto, auto, camioneta ó camión<br>\n",
    "#Cilindrada del motor\n",
    "\n",
    "class vehiculo:\n",
    "    def __init__(self, color, tipo, cilindrada):\n",
    "        self.color = color\n",
    "        self.tipo = tipo\n",
    "        self.cilindrada = cilindrada\n",
    "\n",
    "suzuki = vehiculo('rojo','moto',300)\n",
    "print(suzuki.cilindrada)\n"
   ]
  },
  {
   "cell_type": "markdown",
   "metadata": {},
   "source": []
  },
  {
   "attachments": {},
   "cell_type": "markdown",
   "metadata": {},
   "source": [
    "2) A la clase Vehiculo creada en el punto 1, agregar los siguientes métodos:<br>\n",
    "Acelerar<br>\n",
    "Frenar<br>\n",
    "Doblar<br>"
   ]
  },
  {
   "cell_type": "code",
   "execution_count": 71,
   "metadata": {},
   "outputs": [],
   "source": [
    "class vehiculo:\n",
    "    def __init__(self, color, tipo, cilindrada):\n",
    "        self.color = color\n",
    "        self.tipo = tipo\n",
    "        self.cilindrada = cilindrada\n",
    "        self.velocidad = 0\n",
    "        self.direccion = 0\n",
    "\n",
    "    def acelerar (self, vel):\n",
    "        self.velocidad += vel\n",
    "        print(self.velocidad)\n",
    "    def frenar (self, vel):\n",
    "        self.velocidad -= vel\n",
    "        print(self.velocidad)\n",
    "    def doblar(self, grados):\n",
    "        self.direccion =+ grados\n",
    "        print(self.direccion)\n"
   ]
  },
  {
   "attachments": {},
   "cell_type": "markdown",
   "metadata": {},
   "source": [
    "3) Instanciar 3 objetos de la clase vehículo y ejecutar sus métodos, probar luego el resultado\n"
   ]
  },
  {
   "cell_type": "code",
   "execution_count": 72,
   "metadata": {},
   "outputs": [
    {
     "name": "stdout",
     "output_type": "stream",
     "text": [
      "200\n",
      "0\n",
      "20\n",
      "300\n",
      "-200\n",
      "50\n",
      "15\n",
      "-5\n",
      "25\n"
     ]
    }
   ],
   "source": [
    "mi_moto = vehiculo('rojo', 'moto', 30)\n",
    "mi_carro = vehiculo('negro', 'carro',200)\n",
    "mi_bici = vehiculo('plata','bici', 2)\n",
    "\n",
    "\n",
    "mi_moto.acelerar(200)\n",
    "mi_moto.frenar(200)\n",
    "mi_moto.doblar(20)\n",
    "\n",
    "mi_carro.acelerar(300)\n",
    "mi_carro.frenar(500)\n",
    "mi_carro.doblar(50)\n",
    "\n",
    "mi_bici.acelerar(15)\n",
    "mi_bici.frenar(20)\n",
    "mi_bici.doblar(25)\n",
    "\n",
    "\n",
    "\n"
   ]
  },
  {
   "attachments": {},
   "cell_type": "markdown",
   "metadata": {},
   "source": [
    "4) Agregar a la clase Vehiculo, un método que muestre su estado, es decir, a que velocidad se encuentra y su dirección. Y otro método que muestre color, tipo y cilindrada"
   ]
  },
  {
   "cell_type": "code",
   "execution_count": 73,
   "metadata": {},
   "outputs": [
    {
     "name": "stdout",
     "output_type": "stream",
     "text": [
      "500\n",
      "30\n",
      "la velocidad actual es 500 y va con un direccion de 30 grados\n",
      "Tengo un color rojo soy un tipo moto y mi cilindrada es 200\n"
     ]
    }
   ],
   "source": [
    "class vehiculo:\n",
    "    def __init__(self, color, tipo, cilindrada):\n",
    "        self.color = color\n",
    "        self.tipo = tipo\n",
    "        self.cilindrada = cilindrada\n",
    "        self.velocidad = 0\n",
    "        self.direccion = 0\n",
    "\n",
    "    def acelerar (self, vel):\n",
    "        self.velocidad += vel\n",
    "        print(self.velocidad)\n",
    "    def frenar (self, vel):\n",
    "        self.velocidad -= vel\n",
    "        print(self.velocidad)\n",
    "    def doblar(self, grados):\n",
    "        self.direccion =+ grados\n",
    "        print(self.direccion)\n",
    "    def estado(self):\n",
    "        print('la velocidad actual es', self.velocidad, 'y va con un direccion de', self.direccion, 'grados')\n",
    "    def caracteristicas(self):\n",
    "        print('Tengo un color', self.color, 'soy un tipo', self.tipo, 'y mi cilindrada es', self.cilindrada)\n",
    "\n",
    "\n",
    "mi_moto = vehiculo('rojo','moto',200)\n",
    "mi_moto.acelerar(500)\n",
    "mi_moto.doblar(30)\n",
    "mi_moto.estado()\n",
    "mi_moto.caracteristicas()\n",
    "        \n",
    "\n",
    "    "
   ]
  },
  {
   "attachments": {},
   "cell_type": "markdown",
   "metadata": {},
   "source": [
    "5) Crear una clase que permita utilizar las funciones creadas en la práctica del módulo 6<br>\n",
    "Verificar Primo<br>\n",
    "Valor modal<br>\n",
    "Conversión grados<br>\n",
    "Factorial<br>"
   ]
  },
  {
   "cell_type": "code",
   "execution_count": 86,
   "metadata": {},
   "outputs": [],
   "source": [
    "class funciones:\n",
    "    def __init__(self) -> None:\n",
    "        pass\n",
    "\n",
    "    def verifica_primo(self, nro):\n",
    "        es_primo = True\n",
    "        for i in range(2, nro):\n",
    "            if nro % i == 0:\n",
    "                es_primo = False\n",
    "                break\n",
    "        return es_primo\n",
    "    \n",
    "    def num_moda (self, lista2):\n",
    "        num_modal = 0\n",
    "        repeticiones = 0\n",
    "        for num in lista2:\n",
    "            # para cada elemento de la lista cuenta cuantas veces esta presente en la misma\n",
    "            num_rep = lista2.count(num)\n",
    "                #si el conteo \"num_rep\" > \"moda\" has que \"moda\" tome ese valor. \n",
    "            if num_rep > repeticiones:\n",
    "                repeticiones = num_rep\n",
    "                num_modal = num\n",
    "        return ('la moda es', num_modal, 'con', repeticiones, \"repeticiones\")\n",
    "\n",
    "    def convertir_temp(self, valor, origen, destino):\n",
    "        if(origen == 'celsius'):\n",
    "            if(destino == 'celsius'):\n",
    "                valor_destino = valor\n",
    "            if(destino == 'farenheit'):\n",
    "                valor_destino = (valor * (9/5) + 32)\n",
    "            if(destino == 'kelvin'):\n",
    "                valor_destino = (valor + 273.15)\n",
    "            else:\n",
    "                ('parametro destino incorrecto')\n",
    "\n",
    "        if(origen == 'farenheit'):\n",
    "            if(destino == 'farenheit'):\n",
    "                valor_destino = valor\n",
    "            if(destino == 'celsius'):\n",
    "                valor_destino = ((valor - 32)* (5/9))\n",
    "            if(destino == 'kelvin'):\n",
    "                valor_destino = ((valor - 32)* (5/9) + 273.15)\n",
    "            else:\n",
    "                ('parametro destino incorrecto')\n",
    "\n",
    "        if(origen == 'kelvin'):\n",
    "            if(destino == 'kelvin'):\n",
    "                valor_destino = valor\n",
    "            if(destino == 'celsius'):\n",
    "                valor_destino = (valor - 273)\n",
    "            if(destino == 'farenheit'):\n",
    "                valor_destino = (valor - 273 * (9/5) + 32)\n",
    "            else:\n",
    "                ('parametro destino incorrecto')\n",
    "        \n",
    "        return(valor_destino)\n",
    "\n",
    "    def factorial(self, numero):\n",
    "        if(type(numero) != int):\n",
    "            return 'El numero debe ser un entero'\n",
    "        if(numero < 0):\n",
    "            return 'El numero debe ser positivo'\n",
    "        if (numero > 1):\n",
    "            numero = numero * self.factorial(numero - 1)\n",
    "        return numero\n"
   ]
  },
  {
   "attachments": {},
   "cell_type": "markdown",
   "metadata": {},
   "source": [
    "6) Probar las funciones incorporadas en la clase del punto 5"
   ]
  },
  {
   "cell_type": "code",
   "execution_count": 92,
   "metadata": {},
   "outputs": [
    {
     "name": "stdout",
     "output_type": "stream",
     "text": [
      "True\n",
      "('la moda es', 4, 'con', 7, 'repeticiones')\n",
      "212.0\n",
      "24\n"
     ]
    }
   ],
   "source": [
    "mi_num = funciones()\n",
    "print(mi_num.verifica_primo(7))\n",
    "print(mi_num.num_moda([2,2,2,3,3,4,4,4,4,4,4,4]))\n",
    "print(mi_num.convertir_temp(100,'celsius','farenheit'))\n",
    "print(mi_num.factorial(4))"
   ]
  },
  {
   "attachments": {},
   "cell_type": "markdown",
   "metadata": {},
   "source": [
    "7) Es necesario que la clase creada en el punto 5 contenga una lista, sobre la cual se apliquen las funciones incorporadas"
   ]
  },
  {
   "cell_type": "code",
   "execution_count": 136,
   "metadata": {},
   "outputs": [],
   "source": [
    "class funciones:\n",
    "    def __init__(self, lista_datos):\n",
    "        self.lista = lista_datos    \n",
    "    \n",
    "    def verifica_primo(self):\n",
    "        for i in self.lista:\n",
    "            if(self.__verifica_primo(i)):\n",
    "                print('El elemento', i , 'SI es un numero primo')\n",
    "            else:\n",
    "                print('El elemento', i , 'NO es un numero primo')\n",
    "        \n",
    "    def convertir_temp(self, origen, destino):\n",
    "        for i in self.lista:\n",
    "            print(i, 'grados', origen, 'son', self.__convertir_temp(i, origen, destino), 'grados',destino)\n",
    "\n",
    "    def factorial (self):\n",
    "        for i in self.lista:\n",
    "            print('El factorial de', i, 'es', self.__factorial(i))\n",
    "\n",
    "    def __verifica_primo(self, nro):\n",
    "        es_primo = True\n",
    "        for i in range(2, nro):\n",
    "            if nro % i == 0:\n",
    "                es_primo = False\n",
    "                break\n",
    "        return es_primo\n",
    "    \n",
    "    def num_moda (self, lista2):\n",
    "        num_modal = 0\n",
    "        repeticiones = 0\n",
    "        for num in lista2:\n",
    "            # para cada elemento de la lista cuenta cuantas veces esta presente en la misma\n",
    "            num_rep = lista2.count(num)\n",
    "                #si el conteo \"num_rep\" > \"moda\" has que \"moda\" tome ese valor. \n",
    "            if num_rep > repeticiones:\n",
    "                repeticiones = num_rep\n",
    "                num_modal = num\n",
    "        return ('la moda es', num_modal, 'con', repeticiones, \"repeticiones\")\n",
    "\n",
    "    def __convertir_temp(self, valor, origen, destino):\n",
    "        \n",
    "        if(origen == 'celsius'):\n",
    "            if(destino == 'celsius'):\n",
    "                valor_destino = valor\n",
    "            elif(destino == 'farenheit'):\n",
    "                valor_destino = (valor * (9/5) + 32)\n",
    "            elif(destino == 'kelvin'):\n",
    "                valor_destino = (valor + 273.15)\n",
    "            else:\n",
    "                ('parametro destino incorrecto')\n",
    "\n",
    "        if(origen == 'farenheit'):\n",
    "            if(destino == 'farenheit'):\n",
    "                valor_destino = valor\n",
    "            elif(destino == 'celsius'):\n",
    "                valor_destino = ((valor - 32)* (5/9))\n",
    "            elif(destino == 'kelvin'):\n",
    "                valor_destino = ((valor - 32)* (5/9) + 273.15)\n",
    "            else:\n",
    "                ('parametro destino incorrecto')\n",
    "\n",
    "        if(origen == 'kelvin'):\n",
    "            if(destino == 'kelvin'):\n",
    "                valor_destino = valor\n",
    "            elif(destino == 'celsius'):\n",
    "                valor_destino = (valor - 273)\n",
    "            elif(destino == 'farenheit'):\n",
    "                valor_destino = (valor - 273 * (9/5) + 32)\n",
    "            else:\n",
    "                ('parametro destino incorrecto')\n",
    "        \n",
    "        return(valor_destino)\n",
    "\n",
    "    def __factorial(self, numero):\n",
    "        if(type(numero) != int):\n",
    "            return 'El numero debe ser un entero'\n",
    "        if(numero < 0):\n",
    "            return 'El numero debe ser positivo'\n",
    "        if (numero > 1):\n",
    "            numero = numero * self.__factorial(numero - 1)\n",
    "        return numero"
   ]
  },
  {
   "cell_type": "code",
   "execution_count": 137,
   "metadata": {},
   "outputs": [
    {
     "name": "stdout",
     "output_type": "stream",
     "text": [
      "El elemento 1 SI es un numero primo\n",
      "El elemento 2 SI es un numero primo\n",
      "El elemento 3 SI es un numero primo\n",
      "El elemento 4 NO es un numero primo\n",
      "El elemento 5 SI es un numero primo\n",
      "1 grados celsius son 33.8 grados farenheit\n",
      "2 grados celsius son 35.6 grados farenheit\n",
      "3 grados celsius son 37.4 grados farenheit\n",
      "4 grados celsius son 39.2 grados farenheit\n",
      "5 grados celsius son 41.0 grados farenheit\n",
      "None\n",
      "El factorial de 1 es 1\n",
      "El factorial de 2 es 2\n",
      "El factorial de 3 es 6\n",
      "El factorial de 4 es 24\n",
      "El factorial de 5 es 120\n",
      "None\n"
     ]
    }
   ],
   "source": [
    "prueba = funciones([1,2,3,4,5])\n",
    "\n",
    "prueba.verifica_primo()\n",
    "print(prueba.convertir_temp('celsius','farenheit'))\n",
    "print(prueba.factorial())"
   ]
  },
  {
   "attachments": {},
   "cell_type": "markdown",
   "metadata": {},
   "source": [
    "8) Crear un archivo .py aparte y ubicar allí la clase generada en el punto anterior. Luego realizar la importación del módulo y probar alguna de sus funciones"
   ]
  },
  {
   "cell_type": "code",
   "execution_count": 143,
   "metadata": {},
   "outputs": [
    {
     "name": "stdout",
     "output_type": "stream",
     "text": [
      "El elemento 3 SI es un numero primo\n",
      "El elemento 5 SI es un numero primo\n",
      "El elemento 7 SI es un numero primo\n",
      "El elemento 9 NO es un numero primo\n",
      "El factorial de 3 es 6\n",
      "El factorial de 5 es 120\n",
      "El factorial de 7 es 5040\n",
      "El factorial de 9 es 362880\n"
     ]
    }
   ],
   "source": [
    "from funcionesss import *\n",
    "\n",
    "prueba2 = funciones([3,5,7,9,])\n",
    "\n",
    "prueba2.verifica_primo()\n",
    "prueba2.factorial()\n",
    "\n"
   ]
  }
 ],
 "metadata": {
  "kernelspec": {
   "display_name": "Python 3",
   "language": "python",
   "name": "python3"
  },
  "language_info": {
   "codemirror_mode": {
    "name": "ipython",
    "version": 3
   },
   "file_extension": ".py",
   "mimetype": "text/x-python",
   "name": "python",
   "nbconvert_exporter": "python",
   "pygments_lexer": "ipython3",
   "version": "3.8.9"
  },
  "orig_nbformat": 4,
  "vscode": {
   "interpreter": {
    "hash": "31f2aee4e71d21fbe5cf8b01ff0e069b9275f58929596ceb00d14d90e3e16cd6"
   }
  }
 },
 "nbformat": 4,
 "nbformat_minor": 2
}
