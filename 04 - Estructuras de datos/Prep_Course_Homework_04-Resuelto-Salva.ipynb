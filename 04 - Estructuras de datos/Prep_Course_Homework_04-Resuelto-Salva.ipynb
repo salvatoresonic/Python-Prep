{
 "cells": [
  {
   "cell_type": "code",
   "execution_count": 15,
   "metadata": {},
   "outputs": [
    {
     "name": "stdout",
     "output_type": "stream",
     "text": [
      "['CDMX', 'Rio', 'Paris', 'Montevideo', 'Berlin', 'Amsterdam']\n"
     ]
    }
   ],
   "source": [
    "#1) Crear una lista que contenga nombres de ciudades del mundo que contenga más de 5 elementos e imprimir por pantalla\n",
    "\n",
    "mi_lista = [\"CDMX\", 'Rio', 'Paris', 'Montevideo', 'Berlin','Amsterdam']\n",
    "print(mi_lista)"
   ]
  },
  {
   "cell_type": "code",
   "execution_count": 16,
   "metadata": {},
   "outputs": [
    {
     "name": "stdout",
     "output_type": "stream",
     "text": [
      "Rio\n"
     ]
    }
   ],
   "source": [
    "# 2 Imprimir por pantalla el segundo elemento de la lista\n",
    "\n",
    "print(mi_lista[1])\n"
   ]
  },
  {
   "cell_type": "code",
   "execution_count": 17,
   "metadata": {},
   "outputs": [
    {
     "name": "stdout",
     "output_type": "stream",
     "text": [
      "['Rio', 'Paris', 'Montevideo']\n"
     ]
    }
   ],
   "source": [
    "#3 Imprimir por pantalla del segundo al cuarto elemento\n",
    "print(mi_lista[1:4])\n"
   ]
  },
  {
   "cell_type": "code",
   "execution_count": 18,
   "metadata": {},
   "outputs": [
    {
     "name": "stdout",
     "output_type": "stream",
     "text": [
      "<class 'list'>\n",
      "<class 'str'>\n"
     ]
    }
   ],
   "source": [
    "# 4 Visualizar el tipo de dato de la lista\n",
    "print(type(mi_lista))\n",
    "print(type(mi_lista[2]))"
   ]
  },
  {
   "cell_type": "code",
   "execution_count": 19,
   "metadata": {},
   "outputs": [
    {
     "name": "stdout",
     "output_type": "stream",
     "text": [
      "['Paris', 'Montevideo', 'Berlin', 'Amsterdam']\n"
     ]
    }
   ],
   "source": [
    "# 5) Visualizar todos los elementos de la lista a partir del tercero de manera genérica, es decir, sin explicitar la posición del último elemento\n",
    "\n",
    "print(mi_lista[2:])"
   ]
  },
  {
   "cell_type": "code",
   "execution_count": 20,
   "metadata": {},
   "outputs": [
    {
     "name": "stdout",
     "output_type": "stream",
     "text": [
      "['CDMX', 'Rio', 'Paris', 'Montevideo']\n"
     ]
    }
   ],
   "source": [
    "# 6 Visualizar los primeros 4 elementos de la lista\n",
    "print(mi_lista[:4])"
   ]
  },
  {
   "cell_type": "code",
   "execution_count": 21,
   "metadata": {},
   "outputs": [
    {
     "name": "stdout",
     "output_type": "stream",
     "text": [
      "['CDMX', 'Rio', 'Paris', 'Montevideo', 'Berlin', 'Amsterdam', 'CDMX', 'Barcelona']\n"
     ]
    }
   ],
   "source": [
    "#7) Agregar una ciudad más a la lista que ya exista y otra que no ¿Arroja algún tipo de error?\n",
    "mi_lista.append('CDMX')\n",
    "mi_lista.append('Barcelona')\n",
    "print(mi_lista)\n",
    "\n",
    "# No marca algun tipo de error"
   ]
  },
  {
   "cell_type": "code",
   "execution_count": 22,
   "metadata": {},
   "outputs": [
    {
     "name": "stdout",
     "output_type": "stream",
     "text": [
      "['CDMX', 'Rio', 'Paris', 'Moscú', 'Montevideo', 'Berlin', 'Amsterdam', 'CDMX', 'Barcelona']\n"
     ]
    }
   ],
   "source": [
    "# 8 Agregar otra ciudad, pero en la cuarta posición\n",
    "mi_lista.insert(3, 'Moscú')\n",
    "print(mi_lista)"
   ]
  },
  {
   "attachments": {},
   "cell_type": "markdown",
   "metadata": {},
   "source": []
  },
  {
   "cell_type": "code",
   "execution_count": 23,
   "metadata": {},
   "outputs": [
    {
     "name": "stdout",
     "output_type": "stream",
     "text": [
      "['CDMX', 'Rio', 'Paris', 'Moscú', 'Montevideo', 'Berlin', 'Amsterdam', 'CDMX', 'Barcelona', 'Quebec', 'Bruselas', 'Santiago']\n"
     ]
    }
   ],
   "source": [
    "# 9) Concatenar otra lista a la ya creada\n",
    "mi_lista.extend(['Quebec', 'Bruselas', 'Santiago'])\n",
    "print(mi_lista)"
   ]
  },
  {
   "cell_type": "code",
   "execution_count": 24,
   "metadata": {},
   "outputs": [
    {
     "name": "stdout",
     "output_type": "stream",
     "text": [
      "0\n"
     ]
    }
   ],
   "source": [
    "# 10 Encontrar el índice de la ciudad que en el punto 7 agregamos duplicada. ¿Se nota alguna particularidad?\n",
    "\n",
    "print(mi_lista.index('CDMX'))\n",
    "\n",
    "#reconoce el indice del primer dato\n"
   ]
  },
  {
   "cell_type": "code",
   "execution_count": 25,
   "metadata": {},
   "outputs": [
    {
     "ename": "ValueError",
     "evalue": "'Hanoi' is not in list",
     "output_type": "error",
     "traceback": [
      "\u001b[0;31m---------------------------------------------------------------------------\u001b[0m",
      "\u001b[0;31mValueError\u001b[0m                                Traceback (most recent call last)",
      "Cell \u001b[0;32mIn[25], line 3\u001b[0m\n\u001b[1;32m      1\u001b[0m \u001b[39m# 11 ¿Qué pasa si se busca un elemento que no existe?\u001b[39;00m\n\u001b[0;32m----> 3\u001b[0m \u001b[39mprint\u001b[39m(mi_lista\u001b[39m.\u001b[39;49mindex(\u001b[39m'\u001b[39;49m\u001b[39mHanoi\u001b[39;49m\u001b[39m'\u001b[39;49m))\n\u001b[1;32m      5\u001b[0m \u001b[39m# Marca un error \"dato is not in the list\"\u001b[39;00m\n",
      "\u001b[0;31mValueError\u001b[0m: 'Hanoi' is not in list"
     ]
    }
   ],
   "source": [
    "# 11 ¿Qué pasa si se busca un elemento que no existe?\n",
    "\n",
    "print(mi_lista.index('Hanoi'))\n",
    "\n",
    "# Marca un error \"dato is not in the list\""
   ]
  },
  {
   "cell_type": "code",
   "execution_count": null,
   "metadata": {},
   "outputs": [
    {
     "name": "stdout",
     "output_type": "stream",
     "text": [
      "['CDMX', 'Moscú', 'Montevideo', 'Berlin', 'Amsterdam', 'CDMX', 'Barcelona', 'Quebec', 'Bruselas', 'Santiago']\n"
     ]
    }
   ],
   "source": [
    "# 12 Eliminar un elemento de la lista\n",
    "mi_lista.remove('Rio')\n",
    "print(mi_lista)\n"
   ]
  },
  {
   "cell_type": "code",
   "execution_count": null,
   "metadata": {},
   "outputs": [
    {
     "ename": "ValueError",
     "evalue": "list.remove(x): x not in list",
     "output_type": "error",
     "traceback": [
      "\u001b[0;31m---------------------------------------------------------------------------\u001b[0m",
      "\u001b[0;31mValueError\u001b[0m                                Traceback (most recent call last)",
      "Cell \u001b[0;32mIn[30], line 2\u001b[0m\n\u001b[1;32m      1\u001b[0m \u001b[39m# 13 ¿Qué pasa si el elemento a eliminar no existe?\u001b[39;00m\n\u001b[0;32m----> 2\u001b[0m mi_lista\u001b[39m.\u001b[39;49mremove(\u001b[39m'\u001b[39;49m\u001b[39mPortland\u001b[39;49m\u001b[39m'\u001b[39;49m)\n\u001b[1;32m      3\u001b[0m \u001b[39mprint\u001b[39m(mi_lista)\n",
      "\u001b[0;31mValueError\u001b[0m: list.remove(x): x not in list"
     ]
    }
   ],
   "source": [
    "# 13 ¿Qué pasa si el elemento a eliminar no existe?\n",
    "mi_lista.remove('Portland')\n",
    "print(mi_lista)\n",
    "\n",
    "# ist.remove(x): x not in list"
   ]
  },
  {
   "cell_type": "code",
   "execution_count": null,
   "metadata": {},
   "outputs": [
    {
     "name": "stdout",
     "output_type": "stream",
     "text": [
      "Santiago\n"
     ]
    }
   ],
   "source": [
    "# 14 Extraer el úlimo elemento de la lista, guardarlo en una variable e imprimirlo\n",
    "\n",
    "ultimo = (mi_lista.pop())\n",
    "print(ultimo)"
   ]
  },
  {
   "cell_type": "code",
   "execution_count": null,
   "metadata": {},
   "outputs": [
    {
     "name": "stdout",
     "output_type": "stream",
     "text": [
      "['CDMX', 'Rio', 'Paris', 'Moscú', 'Montevideo', 'Berlin', 'Amsterdam', 'CDMX', 'Barcelona', 'Quebec', 'Bruselas', 'CDMX', 'Rio', 'Paris', 'Moscú', 'Montevideo', 'Berlin', 'Amsterdam', 'CDMX', 'Barcelona', 'Quebec', 'Bruselas', 'CDMX', 'Rio', 'Paris', 'Moscú', 'Montevideo', 'Berlin', 'Amsterdam', 'CDMX', 'Barcelona', 'Quebec', 'Bruselas', 'CDMX', 'Rio', 'Paris', 'Moscú', 'Montevideo', 'Berlin', 'Amsterdam', 'CDMX', 'Barcelona', 'Quebec', 'Bruselas']\n"
     ]
    }
   ],
   "source": [
    "# 15. Mostrar la lista multiplicada por 4\n",
    "print(mi_lista * 4)"
   ]
  },
  {
   "cell_type": "code",
   "execution_count": null,
   "metadata": {},
   "outputs": [],
   "source": [
    "# 16. Crear una tupla que contenga los números enteros del 1 al 20\n",
    "lista_enteros = [1,2,3,4,5,6,7,8,9,10,11,12,13,14,15,16,17,18,19,20]\n",
    "mi_tupla = tuple(lista_enteros)\n"
   ]
  },
  {
   "cell_type": "code",
   "execution_count": null,
   "metadata": {},
   "outputs": [
    {
     "name": "stdout",
     "output_type": "stream",
     "text": [
      "(11, 12, 13, 14, 15)\n"
     ]
    }
   ],
   "source": [
    "# 17. Imprimir desde el índice 10 al 15 de la tupla\n",
    "print(mi_tupla[10:15])"
   ]
  },
  {
   "cell_type": "code",
   "execution_count": null,
   "metadata": {},
   "outputs": [
    {
     "data": {
      "text/plain": [
       "True"
      ]
     },
     "execution_count": 11,
     "metadata": {},
     "output_type": "execute_result"
    }
   ],
   "source": [
    "# 18. Evaluar si los números 20 y 30 están dentro de la tupla\n",
    "\n",
    "20 in mi_tupla\n"
   ]
  },
  {
   "cell_type": "code",
   "execution_count": null,
   "metadata": {},
   "outputs": [
    {
     "data": {
      "text/plain": [
       "False"
      ]
     },
     "execution_count": 10,
     "metadata": {},
     "output_type": "execute_result"
    }
   ],
   "source": [
    "30 in mi_tupla"
   ]
  },
  {
   "cell_type": "code",
   "execution_count": 47,
   "metadata": {},
   "outputs": [
    {
     "name": "stdout",
     "output_type": "stream",
     "text": [
      "['CDMX', 'Rio', 'Paris', 'Moscú', 'Montevideo', 'Berlin', 'Amsterdam', 'CDMX', 'Barcelona', 'Quebec', 'Bruselas', 'Santiago', 'Toronto']\n",
      "('CDMX', 'Rio', 'Paris', 'Moscú', 'Montevideo', 'Berlin', 'Amsterdam', 'CDMX', 'Barcelona', 'Quebec', 'Bruselas', 'Santiago', 'Toronto')\n",
      "El elemento  Toronto ya existe en la lista\n"
     ]
    }
   ],
   "source": [
    "#19. Con la lista creada en el punto 1, validar la existencia del elemento 'París' y si no existe, agregarlo. Utilizar una variable e informar lo sucedido.\n",
    "\n",
    "print(mi_lista)\n",
    "mi_tupla2 = tuple(mi_lista)\n",
    "print(mi_tupla2)\n",
    "\"París\" in mi_tupla2\n",
    "\n",
    "toronto = 'Toronto'\n",
    "\n",
    "if toronto in mi_lista:\n",
    "    print(\"El elemento \", toronto, \"ya existe en la lista\")\n",
    "else:\n",
    "    mi_lista.append(toronto)\n",
    "    print(\"Se agregó el elemento \", toronto, \" a la lista\")\n",
    "    print(mi_lista)\n",
    "\n",
    "\n",
    "#No se puede agregar un elemento a una tuple ya que es inmutable"
   ]
  },
  {
   "cell_type": "code",
   "execution_count": 37,
   "metadata": {},
   "outputs": [
    {
     "data": {
      "text/plain": [
       "2"
      ]
     },
     "execution_count": 37,
     "metadata": {},
     "output_type": "execute_result"
    }
   ],
   "source": [
    "# 20. Mostrar la cantidad de veces que se encuentra un elemento específico dentro de la tupla y de la lista\n",
    "\n",
    "mi_tupla2.count('CDMX')"
   ]
  },
  {
   "cell_type": "code",
   "execution_count": 38,
   "metadata": {},
   "outputs": [
    {
     "data": {
      "text/plain": [
       "2"
      ]
     },
     "execution_count": 38,
     "metadata": {},
     "output_type": "execute_result"
    }
   ],
   "source": [
    "mi_lista.count('CDMX')"
   ]
  },
  {
   "cell_type": "code",
   "execution_count": 39,
   "metadata": {},
   "outputs": [
    {
     "name": "stdout",
     "output_type": "stream",
     "text": [
      "['CDMX', 'Rio', 'Paris', 'Moscú', 'Montevideo', 'Berlin', 'Amsterdam', 'CDMX', 'Barcelona', 'Quebec', 'Bruselas', 'Santiago']\n"
     ]
    }
   ],
   "source": [
    "#21. Convertir la tupla en una lista\n",
    "mi_lista_tupleada = list(mi_tupla2)\n",
    "print(mi_lista_tupleada)"
   ]
  },
  {
   "cell_type": "code",
   "execution_count": 55,
   "metadata": {},
   "outputs": [
    {
     "data": {
      "text/plain": [
       "2"
      ]
     },
     "execution_count": 55,
     "metadata": {},
     "output_type": "execute_result"
    }
   ],
   "source": [
    "# 22. Desempaquetar solo los primeros 3 elementos de la tupla en 3 variables\n",
    "\n",
    "v1, v2, v3 = mi_tupla[0:3]\n"
   ]
  },
  {
   "cell_type": "code",
   "execution_count": 56,
   "metadata": {},
   "outputs": [
    {
     "data": {
      "text/plain": [
       "1"
      ]
     },
     "execution_count": 56,
     "metadata": {},
     "output_type": "execute_result"
    }
   ],
   "source": [
    "v1"
   ]
  },
  {
   "cell_type": "code",
   "execution_count": 58,
   "metadata": {},
   "outputs": [
    {
     "data": {
      "text/plain": [
       "2"
      ]
     },
     "execution_count": 58,
     "metadata": {},
     "output_type": "execute_result"
    }
   ],
   "source": [
    "v2"
   ]
  },
  {
   "cell_type": "code",
   "execution_count": 59,
   "metadata": {},
   "outputs": [
    {
     "data": {
      "text/plain": [
       "3"
      ]
     },
     "execution_count": 59,
     "metadata": {},
     "output_type": "execute_result"
    }
   ],
   "source": [
    "v3"
   ]
  },
  {
   "cell_type": "code",
   "execution_count": 61,
   "metadata": {},
   "outputs": [
    {
     "data": {
      "text/plain": [
       "(1, 2, 3)"
      ]
     },
     "execution_count": 61,
     "metadata": {},
     "output_type": "execute_result"
    }
   ],
   "source": [
    "tup2 =(v1, v2, v3)\n",
    "tup2"
   ]
  },
  {
   "cell_type": "code",
   "execution_count": 63,
   "metadata": {},
   "outputs": [
    {
     "name": "stdout",
     "output_type": "stream",
     "text": [
      "{'Ciudad': ['CDMX', 'Rio', 'Paris', 'Moscú', 'Montevideo', 'Berlin', 'Amsterdam', 'CDMX', 'Barcelona', 'Quebec', 'Bruselas', 'Santiago', 'Toronto'], 'Pais': ['Mexico', 'Brasil', 'Espana', 'Uruguay', 'Canada'], 'Continente': ['America', 'Europa', 'Africa', 'Asia']}\n"
     ]
    }
   ],
   "source": [
    "# 23. Crear un diccionario utilizando la lista creada en el punto 1, asignándole la clave \"ciudad\". Agregar tambien otras claves, como puede ser \"Pais\" y \"Continente\".\n",
    "\n",
    "mi_diccionario = { 'Ciudad': mi_lista,\n",
    "                  'Pais':['Mexico', 'Brasil', 'Espana', 'Uruguay', 'Canada'],\n",
    "                  'Continente':['America', 'Europa', 'Africa','Asia']}\n",
    "print(mi_diccionario)"
   ]
  },
  {
   "cell_type": "code",
   "execution_count": 64,
   "metadata": {},
   "outputs": [
    {
     "name": "stdout",
     "output_type": "stream",
     "text": [
      "dict_keys(['Ciudad', 'Pais', 'Continente'])\n"
     ]
    }
   ],
   "source": [
    "print(mi_diccionario.keys())"
   ]
  },
  {
   "cell_type": "code",
   "execution_count": 65,
   "metadata": {},
   "outputs": [
    {
     "data": {
      "text/plain": [
       "dict_values([['CDMX', 'Rio', 'Paris', 'Moscú', 'Montevideo', 'Berlin', 'Amsterdam', 'CDMX', 'Barcelona', 'Quebec', 'Bruselas', 'Santiago', 'Toronto'], ['Mexico', 'Brasil', 'Espana', 'Uruguay', 'Canada'], ['America', 'Europa', 'Africa', 'Asia']])"
      ]
     },
     "execution_count": 65,
     "metadata": {},
     "output_type": "execute_result"
    }
   ],
   "source": [
    "mi_diccionario.values()"
   ]
  },
  {
   "cell_type": "code",
   "execution_count": 44,
   "metadata": {},
   "outputs": [
    {
     "name": "stdout",
     "output_type": "stream",
     "text": [
      "['Mexico', 'Brasil', 'Espana', 'Uruguay', 'Canada']\n",
      "['America', 'Europa', 'Africa', 'Asia']\n"
     ]
    }
   ],
   "source": [
    "#24. Imprimir las claves del diccionario\n",
    "\n",
    "print(mi_diccionario['Pais'])\n",
    "print(mi_diccionario['Continente'])\n"
   ]
  },
  {
   "cell_type": "code",
   "execution_count": 45,
   "metadata": {},
   "outputs": [
    {
     "name": "stdout",
     "output_type": "stream",
     "text": [
      "[['CDMX', 'Rio', 'Paris', 'Moscú', 'Montevideo', 'Berlin', 'Amsterdam', 'CDMX', 'Barcelona', 'Quebec', 'Bruselas', 'Santiago']]\n"
     ]
    }
   ],
   "source": [
    "#25. Imprimir las ciudades a través de su clave\n",
    "print(mi_diccionario['Ciudad'])"
   ]
  }
 ],
 "metadata": {
  "kernelspec": {
   "display_name": "Python 3",
   "language": "python",
   "name": "python3"
  },
  "language_info": {
   "codemirror_mode": {
    "name": "ipython",
    "version": 3
   },
   "file_extension": ".py",
   "mimetype": "text/x-python",
   "name": "python",
   "nbconvert_exporter": "python",
   "pygments_lexer": "ipython3",
   "version": "3.8.9"
  },
  "orig_nbformat": 4,
  "vscode": {
   "interpreter": {
    "hash": "31f2aee4e71d21fbe5cf8b01ff0e069b9275f58929596ceb00d14d90e3e16cd6"
   }
  }
 },
 "nbformat": 4,
 "nbformat_minor": 2
}
