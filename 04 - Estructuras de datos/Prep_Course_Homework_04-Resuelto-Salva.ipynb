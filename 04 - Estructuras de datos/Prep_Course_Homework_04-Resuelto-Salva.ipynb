{
 "cells": [
  {
   "cell_type": "code",
   "execution_count": 53,
   "metadata": {},
   "outputs": [
    {
     "name": "stdout",
     "output_type": "stream",
     "text": [
      "['CDMX', 'Rio', 'Paris', 'Montevideo', 'Berlin', 'Amsterdam']\n"
     ]
    }
   ],
   "source": [
    "#1) Crear una lista que contenga nombres de ciudades del mundo que contenga más de 5 elementos e imprimir por pantalla\n",
    "\n",
    "mi_lista = [\"CDMX\", 'Rio', 'Paris', 'Montevideo', 'Berlin','Amsterdam']\n",
    "print(mi_lista)"
   ]
  },
  {
   "cell_type": "code",
   "execution_count": 54,
   "metadata": {},
   "outputs": [
    {
     "name": "stdout",
     "output_type": "stream",
     "text": [
      "Rio\n"
     ]
    }
   ],
   "source": [
    "# 2 Imprimir por pantalla el segundo elemento de la lista\n",
    "\n",
    "print(mi_lista[1])\n"
   ]
  },
  {
   "cell_type": "code",
   "execution_count": 55,
   "metadata": {},
   "outputs": [
    {
     "name": "stdout",
     "output_type": "stream",
     "text": [
      "['Rio', 'Paris', 'Montevideo']\n"
     ]
    }
   ],
   "source": [
    "#3 Imprimir por pantalla del segundo al cuarto elemento\n",
    "print(mi_lista[1:4])\n"
   ]
  },
  {
   "cell_type": "code",
   "execution_count": 56,
   "metadata": {},
   "outputs": [
    {
     "name": "stdout",
     "output_type": "stream",
     "text": [
      "<class 'list'>\n",
      "<class 'str'>\n"
     ]
    }
   ],
   "source": [
    "# 4 Visualizar el tipo de dato de la lista\n",
    "print(type(mi_lista))\n",
    "print(type(mi_lista[2]))"
   ]
  },
  {
   "cell_type": "code",
   "execution_count": 57,
   "metadata": {},
   "outputs": [
    {
     "name": "stdout",
     "output_type": "stream",
     "text": [
      "['Paris', 'Montevideo', 'Berlin', 'Amsterdam']\n"
     ]
    }
   ],
   "source": [
    "# 5) Visualizar todos los elementos de la lista a partir del tercero de manera genérica, es decir, sin explicitar la posición del último elemento\n",
    "\n",
    "print(mi_lista[2:])"
   ]
  },
  {
   "cell_type": "code",
   "execution_count": 58,
   "metadata": {},
   "outputs": [
    {
     "name": "stdout",
     "output_type": "stream",
     "text": [
      "['CDMX', 'Rio', 'Paris', 'Montevideo']\n"
     ]
    }
   ],
   "source": [
    "# 6 Visualizar los primeros 4 elementos de la lista\n",
    "print(mi_lista[:4])"
   ]
  },
  {
   "cell_type": "code",
   "execution_count": 59,
   "metadata": {},
   "outputs": [
    {
     "name": "stdout",
     "output_type": "stream",
     "text": [
      "['CDMX', 'Rio', 'Paris', 'Montevideo', 'Berlin', 'Amsterdam', 'CDMX', 'Barcelona']\n"
     ]
    }
   ],
   "source": [
    "#7) Agregar una ciudad más a la lista que ya exista y otra que no ¿Arroja algún tipo de error?\n",
    "mi_lista.append('CDMX')\n",
    "mi_lista.append('Barcelona')\n",
    "print(mi_lista)\n",
    "\n",
    "# No marca algun tipo de error"
   ]
  },
  {
   "cell_type": "code",
   "execution_count": 60,
   "metadata": {},
   "outputs": [
    {
     "name": "stdout",
     "output_type": "stream",
     "text": [
      "['CDMX', 'Rio', 'Paris', 'Moscú', 'Montevideo', 'Berlin', 'Amsterdam', 'CDMX', 'Barcelona']\n"
     ]
    }
   ],
   "source": [
    "# 8 Agregar otra ciudad, pero en la cuarta posición\n",
    "mi_lista.insert(3, 'Moscú')\n",
    "print(mi_lista)"
   ]
  },
  {
   "cell_type": "code",
   "execution_count": 61,
   "metadata": {},
   "outputs": [
    {
     "name": "stdout",
     "output_type": "stream",
     "text": [
      "['CDMX', 'Rio', 'Paris', 'Moscú', 'Montevideo', 'Berlin', 'Amsterdam', 'CDMX', 'Barcelona', 'Quebec', 'Bruselas', 'Santiago']\n"
     ]
    }
   ],
   "source": [
    "# 9) Concatenar otra lista a la ya creada\n",
    "mi_lista.extend(['Quebec', 'Bruselas', 'Santiago'])\n",
    "print(mi_lista)"
   ]
  },
  {
   "cell_type": "code",
   "execution_count": 62,
   "metadata": {},
   "outputs": [
    {
     "name": "stdout",
     "output_type": "stream",
     "text": [
      "0\n"
     ]
    }
   ],
   "source": [
    "# 10 Encontrar el índice de la ciudad que en el punto 7 agregamos duplicada. ¿Se nota alguna particularidad?\n",
    "\n",
    "print(mi_lista.index('CDMX'))\n",
    "\n",
    "#reconoce el indice del primer dato\n"
   ]
  },
  {
   "cell_type": "code",
   "execution_count": 63,
   "metadata": {},
   "outputs": [
    {
     "ename": "ValueError",
     "evalue": "'Hanoi' is not in list",
     "output_type": "error",
     "traceback": [
      "\u001b[0;31m---------------------------------------------------------------------------\u001b[0m",
      "\u001b[0;31mValueError\u001b[0m                                Traceback (most recent call last)",
      "Cell \u001b[0;32mIn[63], line 3\u001b[0m\n\u001b[1;32m      1\u001b[0m \u001b[39m# 11 ¿Qué pasa si se busca un elemento que no existe?\u001b[39;00m\n\u001b[0;32m----> 3\u001b[0m \u001b[39mprint\u001b[39m(mi_lista\u001b[39m.\u001b[39;49mindex(\u001b[39m'\u001b[39;49m\u001b[39mHanoi\u001b[39;49m\u001b[39m'\u001b[39;49m))\n\u001b[1;32m      5\u001b[0m \u001b[39m# Marca un error \"dato is not in the list\"\u001b[39;00m\n",
      "\u001b[0;31mValueError\u001b[0m: 'Hanoi' is not in list"
     ]
    }
   ],
   "source": [
    "# 11 ¿Qué pasa si se busca un elemento que no existe?\n",
    "\n",
    "print(mi_lista.index('Hanoi'))\n",
    "\n",
    "# Marca un error \"dato is not in the list\""
   ]
  },
  {
   "cell_type": "code",
   "execution_count": null,
   "metadata": {},
   "outputs": [
    {
     "name": "stdout",
     "output_type": "stream",
     "text": [
      "['CDMX', 'Moscú', 'Montevideo', 'Berlin', 'Amsterdam', 'CDMX', 'Barcelona', 'Quebec', 'Bruselas', 'Santiago']\n"
     ]
    }
   ],
   "source": [
    "# 12 Eliminar un elemento de la lista\n",
    "mi_lista.remove('Rio')\n",
    "print(mi_lista)\n"
   ]
  },
  {
   "cell_type": "code",
   "execution_count": null,
   "metadata": {},
   "outputs": [
    {
     "ename": "ValueError",
     "evalue": "list.remove(x): x not in list",
     "output_type": "error",
     "traceback": [
      "\u001b[0;31m---------------------------------------------------------------------------\u001b[0m",
      "\u001b[0;31mValueError\u001b[0m                                Traceback (most recent call last)",
      "Cell \u001b[0;32mIn[30], line 2\u001b[0m\n\u001b[1;32m      1\u001b[0m \u001b[39m# 13 ¿Qué pasa si el elemento a eliminar no existe?\u001b[39;00m\n\u001b[0;32m----> 2\u001b[0m mi_lista\u001b[39m.\u001b[39;49mremove(\u001b[39m'\u001b[39;49m\u001b[39mPortland\u001b[39;49m\u001b[39m'\u001b[39;49m)\n\u001b[1;32m      3\u001b[0m \u001b[39mprint\u001b[39m(mi_lista)\n",
      "\u001b[0;31mValueError\u001b[0m: list.remove(x): x not in list"
     ]
    }
   ],
   "source": [
    "# 13 ¿Qué pasa si el elemento a eliminar no existe?\n",
    "mi_lista.remove('Portland')\n",
    "print(mi_lista)\n",
    "\n",
    "# ist.remove(x): x not in list"
   ]
  },
  {
   "cell_type": "code",
   "execution_count": 65,
   "metadata": {},
   "outputs": [
    {
     "name": "stdout",
     "output_type": "stream",
     "text": [
      "Santiago\n"
     ]
    }
   ],
   "source": [
    "# 14 Extraer el úlimo elemento de la lista, guardarlo en una variable e imprimirlo\n",
    "\n",
    "ultimo = (mi_lista.pop())\n",
    "print(ultimo)"
   ]
  },
  {
   "cell_type": "code",
   "execution_count": 66,
   "metadata": {},
   "outputs": [
    {
     "name": "stdout",
     "output_type": "stream",
     "text": [
      "['CDMX', 'Rio', 'Paris', 'Moscú', 'Montevideo', 'Berlin', 'Amsterdam', 'CDMX', 'Barcelona', 'Quebec', 'Bruselas', 'CDMX', 'Rio', 'Paris', 'Moscú', 'Montevideo', 'Berlin', 'Amsterdam', 'CDMX', 'Barcelona', 'Quebec', 'Bruselas', 'CDMX', 'Rio', 'Paris', 'Moscú', 'Montevideo', 'Berlin', 'Amsterdam', 'CDMX', 'Barcelona', 'Quebec', 'Bruselas', 'CDMX', 'Rio', 'Paris', 'Moscú', 'Montevideo', 'Berlin', 'Amsterdam', 'CDMX', 'Barcelona', 'Quebec', 'Bruselas']\n"
     ]
    }
   ],
   "source": [
    "print(mi_lista * 4)"
   ]
  }
 ],
 "metadata": {
  "kernelspec": {
   "display_name": "Python 3",
   "language": "python",
   "name": "python3"
  },
  "language_info": {
   "codemirror_mode": {
    "name": "ipython",
    "version": 3
   },
   "file_extension": ".py",
   "mimetype": "text/x-python",
   "name": "python",
   "nbconvert_exporter": "python",
   "pygments_lexer": "ipython3",
   "version": "3.8.9"
  },
  "orig_nbformat": 4,
  "vscode": {
   "interpreter": {
    "hash": "31f2aee4e71d21fbe5cf8b01ff0e069b9275f58929596ceb00d14d90e3e16cd6"
   }
  }
 },
 "nbformat": 4,
 "nbformat_minor": 2
}
