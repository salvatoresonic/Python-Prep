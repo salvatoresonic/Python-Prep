{
 "cells": [
  {
   "cell_type": "code",
   "execution_count": 40,
   "metadata": {},
   "outputs": [
    {
     "name": "stdout",
     "output_type": "stream",
     "text": [
      "-15\n",
      "-14\n",
      "-13\n",
      "-12\n",
      "-11\n",
      "-10\n",
      "-9\n",
      "-8\n",
      "-7\n",
      "-6\n",
      "-5\n",
      "-4\n",
      "-3\n",
      "-2\n",
      "-1\n",
      "[-15, -14, -13, -12, -11, -10, -9, -8, -7, -6, -5, -4, -3, -2, -1]\n"
     ]
    }
   ],
   "source": [
    "# 1 A partir de una lista vacía, utilizar un ciclo while para cargar allí números negativos del -15 al -1\n",
    "\n",
    "vacia = []\n",
    "x = -16\n",
    "\n",
    "while (x < -1):\n",
    "    x = x + 1\n",
    "    print(x)\n",
    "    vacia.append(x)\n",
    "print(vacia)\n",
    "\n",
    "\n"
   ]
  },
  {
   "cell_type": "code",
   "execution_count": 41,
   "metadata": {},
   "outputs": [
    {
     "name": "stdout",
     "output_type": "stream",
     "text": [
      "-14\n",
      "-12\n",
      "-10\n",
      "-8\n",
      "-6\n",
      "-4\n",
      "-2\n"
     ]
    }
   ],
   "source": [
    "# 2) ¿Con un ciclo while sería posible recorrer la lista para imprimir sólo los números pares?\n",
    "\n",
    "x = 0 \n",
    "\n",
    "while (x < len(vacia)-1):\n",
    "    x=x+1\n",
    "    if(vacia[x] % 2 == 0):\n",
    "        print(vacia[x])\n",
    "    "
   ]
  },
  {
   "cell_type": "code",
   "execution_count": 42,
   "metadata": {},
   "outputs": [
    {
     "name": "stdout",
     "output_type": "stream",
     "text": [
      "-14\n",
      "-12\n",
      "-10\n",
      "-8\n",
      "-6\n",
      "-4\n",
      "-2\n"
     ]
    }
   ],
   "source": [
    "# 3 Resolver el punto anterior sin utilizar un ciclo while\n",
    "\n",
    "for x in vacia:\n",
    "    if(vacia[x] % 2 == 0):\n",
    "        print(x)"
   ]
  },
  {
   "cell_type": "code",
   "execution_count": 43,
   "metadata": {},
   "outputs": [
    {
     "name": "stdout",
     "output_type": "stream",
     "text": [
      "-15\n",
      "-14\n",
      "-13\n"
     ]
    }
   ],
   "source": [
    "#4 Utilizar el iterable para recorrer sólo los primeros 3 elementos\n",
    "\n",
    "for x in vacia[0:3]:\n",
    "    print(x)\n"
   ]
  },
  {
   "cell_type": "code",
   "execution_count": 44,
   "metadata": {},
   "outputs": [
    {
     "name": "stdout",
     "output_type": "stream",
     "text": [
      "0 -15\n",
      "1 -14\n",
      "2 -13\n",
      "3 -12\n",
      "4 -11\n",
      "5 -10\n",
      "6 -9\n",
      "7 -8\n",
      "8 -7\n",
      "9 -6\n",
      "10 -5\n",
      "11 -4\n",
      "12 -3\n",
      "13 -2\n",
      "14 -1\n"
     ]
    }
   ],
   "source": [
    "# 5 Utilizar la función **enumerate** para obtener dentro del iterable, tambien el índice al que corresponde el elemento\n",
    "\n",
    "\n",
    "for x, y in enumerate(vacia) :\n",
    "    print(x, y)"
   ]
  },
  {
   "cell_type": "code",
   "execution_count": 45,
   "metadata": {},
   "outputs": [
    {
     "name": "stdout",
     "output_type": "stream",
     "text": [
      "[1, 2, 3, 4, 5, 6, 7, 8, 9, 10, 11, 12, 13, 14, 15, 16, 17, 18, 19, 20]\n"
     ]
    }
   ],
   "source": [
    "# 6 Dada la siguiente lista de números enteros entre 1 y 20, crear un ciclo donde se completen los valores faltantes: \n",
    "\n",
    "lista = [1,2,5,7,8,10,13,14,15,17,20]\n",
    "\n",
    "x = 0 \n",
    "\n",
    "while (x < 20):\n",
    "    x=x+1\n",
    "    if(not (x in lista)):\n",
    "        lista.insert(x-1, x)\n",
    "print(lista)\n"
   ]
  },
  {
   "cell_type": "code",
   "execution_count": 46,
   "metadata": {},
   "outputs": [
    {
     "name": "stdout",
     "output_type": "stream",
     "text": [
      "[0, 1, 1, 2, 3, 5, 8, 13, 21, 34, 55, 89, 144, 233, 377, 610, 987, 1597, 2584, 4181, 6765, 10946, 17711, 28657, 46368, 75025, 121393, 196418, 317811, 514229]\n"
     ]
    }
   ],
   "source": [
    "# 7) La sucesión de Fibonacci es un listado de números que sigue la fórmula: <br>\n",
    "#n<sub>0</sub> = 0<br>\n",
    "#n<sub>1</sub> = 1<br>\n",
    "#n<sub>i</sub> = n<sub>i-1</#sub> + n<sub>i-2</sub><br>\n",
    "# Crear una lista con los primeros treinta números de la sucesión.<br>\n",
    "\n",
    "fibonacci = [0,1,]\n",
    "n =2 \n",
    "\n",
    "while(n < 30):\n",
    "    fibonacci.append(fibonacci[n-1] + fibonacci[n-2])\n",
    "    n = n+1\n",
    "print(fibonacci)"
   ]
  },
  {
   "cell_type": "code",
   "execution_count": 47,
   "metadata": {},
   "outputs": [
    {
     "data": {
      "text/plain": [
       "1346268"
      ]
     },
     "execution_count": 47,
     "metadata": {},
     "output_type": "execute_result"
    }
   ],
   "source": [
    "# 8) Realizar la suma de todos elementos de la lista del punto anterior\n",
    "\n",
    "sum(fibonacci[0:])\n"
   ]
  },
  {
   "cell_type": "code",
   "execution_count": 48,
   "metadata": {},
   "outputs": [
    {
     "name": "stdout",
     "output_type": "stream",
     "text": [
      "1.6176470588235294\n",
      "1.6181818181818182\n",
      "1.6179775280898876\n",
      "1.6180555555555556\n",
      "1.6180257510729614\n"
     ]
    }
   ],
   "source": [
    "# 9) La proporción aurea se expresa con una proporción matemática que nace el número irracional Phi= 1,618… que los griegos llamaron número áureo. El cuál se puede aproximar con la sucesión de Fibonacci. Con la lista del ejercicio anterior, imprimir el cociente de los últimos 5 pares de dos números contiguos:<br>\n",
    "#Donde i es la cantidad total de elementos<br>\n",
    "#n<sub>i-1</sub> / n<sub>i</sub><br>\n",
    "#n<sub>i-2</sub> / n<sub>i-1</sub><br>\n",
    "#n<sub>i-3</sub> / n<sub>i-2</sub><br>\n",
    "#n<sub>i-4</sub> / n<sub>i-3</sub><br>\n",
    "#n<sub>i-5</sub> / n<sub>i-4</sub><br>\n",
    "\n",
    "primeros = 15\n",
    "n = primeros - 5\n",
    "while(n < primeros):\n",
    "    print(fibonacci[n]/fibonacci[n-1])\n",
    "    n += 1"
   ]
  },
  {
   "cell_type": "code",
   "execution_count": 57,
   "metadata": {},
   "outputs": [
    {
     "name": "stdout",
     "output_type": "stream",
     "text": [
      "7\n",
      "21\n",
      "39\n",
      "60\n",
      "67\n"
     ]
    }
   ],
   "source": [
    "#10) A partir de la variable cadena ya dada, mostrar en qué posiciones aparece la letra \"n\"<br>\n",
    "cadena = 'Hola Mundo. Esto es una practica del lenguaje de programación Python'\n",
    "\n",
    "\n",
    "\n",
    "for i, y in enumerate(cadena):\n",
    "    if y == 'n':\n",
    "        print(i)\n",
    "\n",
    "\n",
    "#for x, y in enumerate(enes):\n",
    "#    print(x, y)\n",
    "\n",
    "\n",
    "\n",
    "#for x, y in enumerate(vacia) :\n",
    "#    print(x, y)"
   ]
  },
  {
   "cell_type": "code",
   "execution_count": 50,
   "metadata": {},
   "outputs": [
    {
     "name": "stdout",
     "output_type": "stream",
     "text": [
      "Animales\n",
      "Colores\n",
      "Muebles\n",
      "Animales\n",
      "Colores\n",
      "Muebles\n"
     ]
    }
   ],
   "source": [
    "#11) Crear un diccionario e imprimir sus claves utilizando un iterador\n",
    "\n",
    "dicci = {   'Animales':['perro', 'gato', 'tigre'],      'Colores':['rojo', 'blanco','azul'],'Muebles':['silla','mesa', 'banco']}\n",
    "\n",
    "iterador = iter(dicci)\n",
    "print(next(iterador))\n",
    "print(next(iterador))\n",
    "print(next(iterador))\n",
    "\n",
    "for i in dicci:\n",
    "    print(i)\n"
   ]
  },
  {
   "cell_type": "code",
   "execution_count": 51,
   "metadata": {},
   "outputs": [
    {
     "name": "stdout",
     "output_type": "stream",
     "text": [
      "['H', 'o', 'l', 'a', ' ', 'M', 'u', 'n', 'd', 'o', '.', ' ', 'E', 's', 't', 'o', ' ', 'e', 's', ' ', 'u', 'n', 'a', ' ', 'p', 'r', 'a', 'c', 't', 'i', 'c', 'a', ' ', 'd', 'e', 'l', ' ', 'l', 'e', 'n', 'g', 'u', 'a', 'j', 'e', ' ', 'd', 'e', ' ', 'p', 'r', 'o', 'g', 'r', 'a', 'm', 'a', 'c', 'i', 'ó', 'n', ' ', 'P', 'y', 't', 'h', 'o', 'n']\n",
      "0 H\n",
      "1 o\n",
      "2 l\n",
      "3 a\n",
      "4  \n",
      "5 M\n",
      "6 u\n",
      "7 n\n",
      "8 d\n",
      "9 o\n",
      "10 .\n",
      "11  \n",
      "12 E\n",
      "13 s\n",
      "14 t\n",
      "15 o\n",
      "16  \n",
      "17 e\n",
      "18 s\n",
      "19  \n",
      "20 u\n",
      "21 n\n",
      "22 a\n",
      "23  \n",
      "24 p\n",
      "25 r\n",
      "26 a\n",
      "27 c\n",
      "28 t\n",
      "29 i\n",
      "30 c\n",
      "31 a\n",
      "32  \n",
      "33 d\n",
      "34 e\n",
      "35 l\n",
      "36  \n",
      "37 l\n",
      "38 e\n",
      "39 n\n",
      "40 g\n",
      "41 u\n",
      "42 a\n",
      "43 j\n",
      "44 e\n",
      "45  \n",
      "46 d\n",
      "47 e\n",
      "48  \n",
      "49 p\n",
      "50 r\n",
      "51 o\n",
      "52 g\n",
      "53 r\n",
      "54 a\n",
      "55 m\n",
      "56 a\n",
      "57 c\n",
      "58 i\n",
      "59 ó\n",
      "60 n\n",
      "61  \n",
      "62 P\n",
      "63 y\n",
      "64 t\n",
      "65 h\n",
      "66 o\n",
      "67 n\n"
     ]
    }
   ],
   "source": [
    "#12  Convertir en una lista la variable \"cadena\" del punto 10 y luego recorrerla con un iterador \n",
    "\n",
    "cadena = 'Hola Mundo. Esto es una practica del lenguaje de programación Python'\n",
    "\n",
    "print(list(cadena))\n",
    "for i, y in enumerate(cadena):\n",
    "    print(i, y)\n",
    "\n"
   ]
  },
  {
   "cell_type": "code",
   "execution_count": 52,
   "metadata": {},
   "outputs": [
    {
     "data": {
      "text/plain": [
       "[('perro', 'Negro'), ('gato', 'Blanco'), ('conejo', 'Verde'), ('leon', 'Azul')]"
      ]
     },
     "execution_count": 52,
     "metadata": {},
     "output_type": "execute_result"
    }
   ],
   "source": [
    "# 13) Crear dos listas y unirlas en una tupla utilizando la función zip\n",
    "\n",
    "lis1 = ['perro','gato','conejo','leon']\n",
    "\n",
    "lis2 = ['Negro','Blanco', 'Verde', 'Azul']\n",
    "\n",
    "tup = zip(lis1,lis2)\n",
    "type(tup)\n",
    "list(tup)"
   ]
  },
  {
   "cell_type": "code",
   "execution_count": 58,
   "metadata": {},
   "outputs": [
    {
     "name": "stdout",
     "output_type": "stream",
     "text": [
      "[21, 35, 42, 56, 63, 84, 91]\n",
      "[21, 35, 42, 56, 63, 84, 91]\n"
     ]
    }
   ],
   "source": [
    "# 14. A partir de la siguiente lista de números, crear una nueva sólo si el número es divisible por 7<br>\n",
    "\n",
    "#método1\n",
    "lis = [18,21,29,32,35,42,56,60,63,71,84,90,91,100]\n",
    "\n",
    "divisible = []\n",
    "\n",
    "for i in lis:\n",
    "    if (i % 7 == 0):\n",
    "        divisible.append(i)\n",
    "print(divisible)\n",
    "\n",
    "#método2\n",
    "lis2 = [i for i in lis if i % 7 ==  0 ]\n",
    "print(lis2)"
   ]
  },
  {
   "cell_type": "code",
   "execution_count": 61,
   "metadata": {},
   "outputs": [
    {
     "name": "stdout",
     "output_type": "stream",
     "text": [
      "12\n"
     ]
    }
   ],
   "source": [
    "# 15. A partir de la lista de a continuación, contar la cantidad total de elementos que contiene, teniendo en cuenta que un elemento de la lista podría ser otra lista:<br> \n",
    "\n",
    "lis = [[1,2,3,4],'rojo','verde',[True,False,False],['uno','dos','tres']]\n",
    "\n",
    "# print(len(lis))\n",
    "\n",
    "#metodo2\n",
    "\n",
    "canti = 0\n",
    "for i in lis:\n",
    "    if (type(i) == list):\n",
    "        canti = canti + len(i)\n",
    "    else:\n",
    "        canti = canti + 1\n",
    "print(canti)\n"
   ]
  },
  {
   "cell_type": "code",
   "execution_count": 63,
   "metadata": {},
   "outputs": [
    {
     "name": "stdout",
     "output_type": "stream",
     "text": [
      "[[1, 2, 3, 4], ['rojo'], ['verde'], [True, False, False], ['uno', 'dos', 'tres']]\n"
     ]
    }
   ],
   "source": [
    "# 16. Tomar la lista del punto anterior y convertir cada elemento en una lista si no lo es\n",
    "\n",
    "lis = [[1,2,3,4],'rojo','verde',[True,False,False],['uno','dos','tres']]\n",
    "\n",
    "for ind, elem  in enumerate(lis):\n",
    "    if(type(elem) != list):\n",
    "        lis[ind] = [elem]\n",
    "\n",
    "print(lis)\n",
    "  \n"
   ]
  }
 ],
 "metadata": {
  "kernelspec": {
   "display_name": "Python 3",
   "language": "python",
   "name": "python3"
  },
  "language_info": {
   "codemirror_mode": {
    "name": "ipython",
    "version": 3
   },
   "file_extension": ".py",
   "mimetype": "text/x-python",
   "name": "python",
   "nbconvert_exporter": "python",
   "pygments_lexer": "ipython3",
   "version": "3.8.9"
  },
  "orig_nbformat": 4,
  "vscode": {
   "interpreter": {
    "hash": "31f2aee4e71d21fbe5cf8b01ff0e069b9275f58929596ceb00d14d90e3e16cd6"
   }
  }
 },
 "nbformat": 4,
 "nbformat_minor": 2
}
